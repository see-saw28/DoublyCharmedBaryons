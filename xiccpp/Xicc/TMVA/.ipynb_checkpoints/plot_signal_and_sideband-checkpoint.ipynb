{
 "cells": [
  {
   "cell_type": "code",
   "execution_count": 1,
   "id": "5683b9f0",
   "metadata": {},
   "outputs": [],
   "source": [
    "import os\n",
    "os.environ['ZFIT_DISABLE_TF_WARNINGS'] = '1'\n",
    "# numpy is used for generating, storing, and plotting data\n",
    "import numpy as np\n",
    "\n",
    "import uproot\n",
    "\n",
    "# in order to visualise the results of the computation, we use matplotlib\n",
    "import matplotlib as mpl\n",
    "\n",
    "import matplotlib.pyplot as plt\n",
    "import mplhep\n",
    "plt.style.use(mplhep.style.LHCb2)\n",
    "plt.rcParams['text.usetex'] = True\n",
    "#plt.rcParams['figure.dpi'] = 50\n",
    "# for histograms boost has an easy api and is very fast\n",
    "import hist\n",
    "# for statistical distributions we can use a lot from scipy\n",
    "from scipy import stats"
   ]
  },
  {
   "cell_type": "markdown",
   "id": "3614d4fc",
   "metadata": {},
   "source": [
    "## File import, data processing\n",
    " "
   ]
  },
  {
   "cell_type": "code",
   "execution_count": null,
   "id": "bee2feb2",
   "metadata": {},
   "outputs": [],
   "source": [
    "#MC used for training\n",
    "path = '/eos/lhcb/user/p/pgaigne/MC/26266050/MC-2016-26266050.root'\n",
    "with uproot.open(path) as file:\n",
    "    xicc_turbo = file['tuple_sel_Xicc/DecayTree']\n",
    "    #xicc_rec = file['tuple_sel_rec/DecayTree']\n",
    "\n",
    "    branches_we_want = [\"Xicc_M\",\"Xicc_M_DTF_Lc\",\"Lc_M\",\"Xicc_TRUEID\",\"Lc_TRUEID\",\"LcP_TRUEID\",\"LcPi_TRUEID\",\"LcK_TRUEID\",\"LcP_MC_MOTHER_ID\",\"LcP_MC_GD_MOTHER_ID\",\"LcK_MC_MOTHER_ID\",\"LcK_MC_GD_MOTHER_ID\",\"LcPi_MC_MOTHER_ID\",\"LcPi_MC_GD_MOTHER_ID\",\"XiccPi1_TRUEID\",\"XiccPi1_MC_MOTHER_ID\",\"XiccPi2_TRUEID\",\"XiccPi2_MC_MOTHER_ID\",\"XiccK_TRUEID\",\"XiccK_MC_MOTHER_ID\"]\n",
    "\n",
    "    data_sig = xicc_turbo.arrays(expressions = branches_we_want, library='pd')\n",
    "    \n",
    "#Data used for training\n",
    "path = \"/eos/lhcb/user/p/pgaigne/job30-CombDVntuple-95%-evts-0.root\"\n",
    "with uproot.open(path) as file:\n",
    "    xicc_turbo = file['tuple_sel_Xicc/DecayTree']\n",
    "    #xicc_rec = file['tuple_sel_rec/DecayTree']\n",
    "\n",
    "    branches_we_want = [\"Xicc_M\",\"Xicc_M_DTF_Lc\",\"Lc_M\"] \n",
    "    data_sideband = xicc_turbo.arrays(expressions = branches_we_want, library='pd')\n",
    "    #data_sideband = xicc_rec['Xicc_M'].arrays(library='pd')\n"
   ]
  },
  {
   "cell_type": "markdown",
   "id": "be874097",
   "metadata": {},
   "source": [
    "## Cut selection"
   ]
  },
  {
   "cell_type": "code",
   "execution_count": null,
   "id": "b4c4f830",
   "metadata": {},
   "outputs": [],
   "source": [
    "cut = \"(abs(Xicc_TRUEID)==4422&abs(Lc_TRUEID)==4122&abs(LcP_TRUEID)==2212&abs(LcPi_TRUEID)==211&abs(LcK_TRUEID)==321&(abs(LcP_MC_MOTHER_ID)==4122|abs(LcP_MC_GD_MOTHER_ID)==4122)&(abs(LcK_MC_MOTHER_ID)==4122|abs(LcK_MC_GD_MOTHER_ID)==4122)&(abs(LcPi_MC_MOTHER_ID)==4122|abs(LcPi_MC_GD_MOTHER_ID)==4122)&abs(XiccPi1_TRUEID)==211&abs(XiccPi1_MC_MOTHER_ID)==4422&abs(XiccPi2_TRUEID)==211&abs(XiccPi2_MC_MOTHER_ID)==4422&abs(XiccK_TRUEID)==321&abs(XiccK_MC_MOTHER_ID)==4422)\"\n",
    "data_sig = data_sig.query(cut+\"&(Lc_M>2270)&(Lc_M<2306)\")\n",
    "\n",
    "data_sideband = data_sideband.query(\"(Lc_M>2270)&(Lc_M<2306)\")\n",
    "\n",
    "data_sig_M = data_sig.Xicc_M\n",
    "data_sideband_M = data_sideband.Xicc_M\n",
    "\n",
    "\n",
    "data_sig_cut = data_sig.query(\"abs(Xicc_M-3621)<15\")\n",
    "data_sideband_cut = data_sideband.query(\"(Xicc_M>3700)&(Xicc_M<3800)\")\n",
    "\n",
    "data_sig_cut_M = data_sig_cut.Xicc_M\n",
    "data_sideband_cut_M = data_sideband_cut.Xicc_M"
   ]
  },
  {
   "cell_type": "markdown",
   "id": "e3c774b2",
   "metadata": {},
   "source": [
    "## Signal selected"
   ]
  },
  {
   "cell_type": "code",
   "execution_count": null,
   "id": "740c7981",
   "metadata": {},
   "outputs": [],
   "source": [
    "n, bins, patches = plt.hist([data_sig_cut_M, data_sig_M], \n",
    "                            bins=48, \n",
    "                            density = False, \n",
    "                            range=[3621-72, 3621+72],\n",
    "                            histtype='step', \n",
    "                            label=[\"Signal\", \"Xicc_M\"], \n",
    "                            color=['b','black']\n",
    "                            )\n",
    "\n",
    "hatches = ['/', '']\n",
    "for patch_set, hatch in zip(patches, hatches):\n",
    "    for patch in patch_set:\n",
    "        patch.set_hatch(hatch)\n",
    "\n",
    "        \n",
    "plt.xlabel(\"$M(\\Lambda_c^+ K^- \\pi^+ \\pi^+)[MeV/c^2]$\")\n",
    "plt.ylabel(f'Events/( 3 MeV/$c^2$ )');\n",
    "plt.legend()"
   ]
  },
  {
   "cell_type": "code",
   "execution_count": null,
   "id": "56050176",
   "metadata": {},
   "outputs": [],
   "source": [
    "print(f\"Number of signal events : {len(data_sig_cut_M)}\")"
   ]
  },
  {
   "cell_type": "markdown",
   "id": "c2439d90",
   "metadata": {},
   "source": [
    "## Sideband selected"
   ]
  },
  {
   "cell_type": "code",
   "execution_count": null,
   "id": "549770d8",
   "metadata": {
    "scrolled": false
   },
   "outputs": [],
   "source": [
    "n, bins, patches = plt.hist([data_sideband_cut_M, data_sideband_M], \n",
    "                            bins=80, \n",
    "                            density = False, \n",
    "                            range=[3500, 3900],\n",
    "                            histtype='step', \n",
    "                            label=[\"Sideband\", \"Xicc_M TURBO\"], \n",
    "                            color=['r','black']\n",
    "                            )\n",
    "\n",
    "hatches = ['/', '']\n",
    "for patch_set, hatch in zip(patches, hatches):\n",
    "    for patch in patch_set:\n",
    "        patch.set_hatch(hatch)\n",
    "\n",
    "        \n",
    "plt.xlabel(\"Xicc TURBO\")\n",
    "\n",
    "plt.legend(loc='upper left')"
   ]
  },
  {
   "cell_type": "code",
   "execution_count": null,
   "id": "7fde502f",
   "metadata": {},
   "outputs": [],
   "source": [
    "print(f\"Number of sideband events : {len(data_sideband_cut_M)}\")"
   ]
  }
 ],
 "metadata": {
  "kernelspec": {
   "display_name": "startkitEnv",
   "language": "python",
   "name": "startkitenv"
  },
  "language_info": {
   "codemirror_mode": {
    "name": "ipython",
    "version": 3
   },
   "file_extension": ".py",
   "mimetype": "text/x-python",
   "name": "python",
   "nbconvert_exporter": "python",
   "pygments_lexer": "ipython3",
   "version": "3.9.13"
  },
  "vscode": {
   "interpreter": {
    "hash": "887f33e596282997c2202cd692b2605047ec947ac54ad96b34b4a02b1c19c8a9"
   }
  }
 },
 "nbformat": 4,
 "nbformat_minor": 5
}
