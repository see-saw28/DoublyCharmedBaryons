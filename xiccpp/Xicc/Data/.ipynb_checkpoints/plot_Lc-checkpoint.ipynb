{
 "cells": [
  {
   "cell_type": "code",
   "execution_count": null,
   "id": "5683b9f0",
   "metadata": {},
   "outputs": [],
   "source": [
    "import os\n",
    "os.environ['ZFIT_DISABLE_TF_WARNINGS'] = '1'\n",
    "# numpy is used for generating, storing, and plotting data\n",
    "import numpy as np\n",
    "# zfit will be used for the parameter estimation in the following\n",
    "import zfit\n",
    "import uproot\n",
    "import pandas\n",
    "\n",
    "# in order to visualise the results of the computation, we use matplotlib\n",
    "import matplotlib as mpl\n",
    "if os.path.exists('lhcbStylerc'):\n",
    "    mpl.rc_file('lhcbStylerc') # some plotting presets i usually use, you can find them in the git-repo\n",
    "import socket\n",
    "#if 'jupyter-schmitse-' in socket.gethostname():\n",
    "#    mpl.rcParams['text.usetex'] = False # no latex on binder\n",
    "    \n",
    "import matplotlib.pyplot as plt\n",
    "import mplhep\n",
    "plt.style.use(mplhep.style.LHCb2)\n",
    "#plt.rcParams['text.usetex'] = True\n",
    "# for histograms boost has an easy api and is very fast\n",
    "import hist\n",
    "# for statistical distributions we can use a lot from scipy\n",
    "from scipy import stats"
   ]
  },
  {
   "cell_type": "markdown",
   "id": "3614d4fc",
   "metadata": {},
   "source": [
    "## File import, data processing\n",
    " "
   ]
  },
  {
   "cell_type": "code",
   "execution_count": null,
   "id": "bee2feb2",
   "metadata": {},
   "outputs": [],
   "source": [
    "\n",
    "paths17=[\"/eos/lhcb/user/p/pgaigne/job78-DV-Xiccpp-Collision-2017-MD-0-MVA.root\",\n",
    "       \"/eos/lhcb/user/p/pgaigne/job80-DV-Xiccpp-Collision-2017-MU-0-MVA.root\"]\n",
    "\n",
    "path16=\"/eos/lhcb/user/p/pgaigne/job75-DV-Xiccpp-Collision-2016-MU-1-MVA.root\"\n",
    "path17=\"/eos/lhcb/user/p/pgaigne/job80-DV-Xiccpp-Collision-2017-MU-0-MVA.root\"\n",
    "path18=\"/eos/lhcb/user/p/pgaigne/job81-DV-Xiccpp-Collision-2018-MU-0-MVA.root\" \n",
    "\n",
    "paths18=[\"/eos/lhcb/user/p/pgaigne/job79-DV-Xiccpp-Collision-2018-MD-0-MVA.root\",\n",
    "       \"/eos/lhcb/user/p/pgaigne/job81-DV-Xiccpp-Collision-2018-MU-0-MVA.root\"]\n",
    "    \n",
    "\n",
    "paths2016=[\"/eos/lhcb/user/p/pgaigne/job74-DV-Xiccpp-Collision-2016-MD-0-MVA.root\",\n",
    "       \"/eos/lhcb/user/p/pgaigne/job74-DV-Xiccpp-Collision-2016-MD-1-MVA.root\",\n",
    "       \"/eos/lhcb/user/p/pgaigne/job75-DV-Xiccpp-Collision-2016-MU-0-MVA.root\",\n",
    "       \"/eos/lhcb/user/p/pgaigne/job75-DV-Xiccpp-Collision-2016-MU-1-MVA.root\"]\n",
    "\n",
    "# paths=[\"/eos/lhcb/user/p/pgaigne/job74-DV-Xiccpp-Collision-2016-MD-0-MVA-WS.root\",\n",
    "#        \"/eos/lhcb/user/p/pgaigne/job74-DV-Xiccpp-Collision-2016-MD-1-MVA-WS.root\",\n",
    "#        \"/eos/lhcb/user/p/pgaigne/job75-DV-Xiccpp-Collision-2016-MU-0-MVA-WS.root\",\n",
    "#        \"/eos/lhcb/user/p/pgaigne/job75-DV-Xiccpp-Collision-2016-MU-1-MVA-WS.root\"]\n",
    "\n",
    "data_df = pandas.DataFrame([])\n",
    "\n",
    "branches_we_want = [\"Xicc_M\",\"Xicc_M_DTF\",\"Xicc_M_DTF_Lc\",\"Xicc_M_DTF_PV\",\"Xicc_M_DTF_Lc_PV\",\"Lc_M\",\"Polarity\",\"Xicc_ID\", \n",
    "                    #\"BDT\",\"BDTG\",\"MLP\", \"Lc_ENDVERTEX_CHI2_NDOF\", \"sum_Xicc_Daughters_PT\", \"Xicc_ENDVERTEX_CHI2_NDOF\",\n",
    "                        \"Lc_DIRA_OWNPV\", \"Lc_TAU\", \"Lc_IPCHI2_OWNPV\", \"Lc_ENDVERTEX_CHI2\",\"Lc_ENDVERTEX_NDOF\", \"Lc_P\", \"Lc_PT\", \"Lc_LTIME\",\n",
    "                        \"LcP_TRACK_CHI2NDOF\",\"LcP_P\", \"LcP_PT\", \"LcP_PIDp\", \"LcP_PIDK\", \"LcP_IPCHI2_OWNPV\",\n",
    "                        \"LcPi_TRACK_CHI2NDOF\",\"LcPi_P\", \"LcPi_PT\", \"LcPi_PIDK\", \"LcPi_IPCHI2_OWNPV\",\n",
    "                        \"LcK_TRACK_CHI2NDOF\",\"LcK_P\", \"LcK_PT\", \"LcK_PIDK\", \"LcK_IPCHI2_OWNPV\",\n",
    "                        \"XiccK_TRACK_CHI2NDOF\",\"XiccK_TRACK_GhostProb\", \"XiccK_IPCHI2_OWNPV\", \"XiccK_PT\", \"XiccK_P\",\"XiccK_ProbNNk\", \"XiccK_PIDK\",\n",
    "                        \"XiccPi1_TRACK_CHI2NDOF\",\"XiccPi1_TRACK_GhostProb\", \"XiccPi1_IPCHI2_OWNPV\", \"XiccPi1_PT\", \"XiccPi1_P\",\"XiccPi1_ProbNNpi\", \"XiccPi1_PIDK\",\n",
    "                        \"XiccPi2_TRACK_CHI2NDOF\",\"XiccPi2_TRACK_GhostProb\", \"XiccPi2_IPCHI2_OWNPV\", \"XiccPi2_PT\", \"XiccPi2_P\",\"XiccPi2_ProbNNpi\", \"XiccPi2_PIDK\",\n",
    "                          \"Xicc_IPCHI2_OWNPV\",\"Xicc_DIRA_OWNPV\", \"Xicc_ENDVERTEX_CHI2\",\"Xicc_ENDVERTEX_NDOF\", \"Xicc_FDCHI2_OWNPV\",\"Xicc_CHI2NDOF_DTF_Lc\"] \n",
    "\n",
    "\n",
    "path16=\"/eos/lhcb/user/p/pgaigne/job101-DV-Xiccpp-Collision-2016-MD-0.root\"\n",
    "path17=\"/eos/lhcb/user/p/pgaigne/job108-DV-Xiccpp-Collision-2017-MD-0.root\"\n",
    "path18=\"/eos/lhcb/user/p/pgaigne/job107-DV-Xiccpp-Collision-2018-MD-0.root\" \n",
    "path18b=\"/eos/lhcb/user/p/pgaigne/job109-DV-Xiccpp-Collision-2018-MD-0.root\" \n",
    "\n",
    "file =  uproot.open(path16)\n",
    "tree = file['tuple_sel_rec/DecayTree']\n",
    "data_df16 = tree.arrays(expressions = branches_we_want, library='pd')\n",
    "file.close()\n",
    "\n",
    "file =  uproot.open(path17)\n",
    "tree = file['tuple_sel_rec/DecayTree']\n",
    "data_df17 = tree.arrays(expressions = branches_we_want, library='pd')\n",
    "file.close()\n",
    "\n",
    "file =  uproot.open(path18)\n",
    "tree = file['tuple_sel_rec/DecayTree']\n",
    "data_df18 = tree.arrays(expressions = branches_we_want, library='pd')\n",
    "file.close()\n",
    "\n",
    "file =  uproot.open(path18b)\n",
    "tree = file['tuple_sel_rec/DecayTree']\n",
    "data_df18b = tree.arrays(expressions = branches_we_want, library='pd')\n",
    "file.close()\n",
    "    \n",
    "    \n"
   ]
  },
  {
   "cell_type": "code",
   "execution_count": null,
   "id": "5c966119",
   "metadata": {},
   "outputs": [],
   "source": [
    "data_df16[\"Lc_ENDVERTEX_CHI2_NDOF\"] = data_df16.Lc_ENDVERTEX_CHI2/data_df16.Lc_ENDVERTEX_NDOF\n",
    "data_df17[\"Lc_ENDVERTEX_CHI2_NDOF\"] = data_df17.Lc_ENDVERTEX_CHI2/data_df17.Lc_ENDVERTEX_NDOF\n",
    "data_df18[\"Lc_ENDVERTEX_CHI2_NDOF\"] = data_df18.Lc_ENDVERTEX_CHI2/data_df18.Lc_ENDVERTEX_NDOF\n",
    "data_df18b[\"Lc_ENDVERTEX_CHI2_NDOF\"] = data_df18b.Lc_ENDVERTEX_CHI2/data_df18b.Lc_ENDVERTEX_NDOF\n",
    "\n",
    "data_df16[\"Xicc_ENDVERTEX_CHI2_NDOF\"] = data_df16.Xicc_ENDVERTEX_CHI2/data_df16.Xicc_ENDVERTEX_NDOF\n",
    "data_df17[\"Xicc_ENDVERTEX_CHI2_NDOF\"] = data_df17.Xicc_ENDVERTEX_CHI2/data_df17.Xicc_ENDVERTEX_NDOF\n",
    "data_df18[\"Xicc_ENDVERTEX_CHI2_NDOF\"] = data_df18.Xicc_ENDVERTEX_CHI2/data_df18.Xicc_ENDVERTEX_NDOF\n",
    "data_df18b[\"Xicc_ENDVERTEX_CHI2_NDOF\"] = data_df18b.Xicc_ENDVERTEX_CHI2/data_df18b.Xicc_ENDVERTEX_NDOF"
   ]
  },
  {
   "cell_type": "code",
   "execution_count": null,
   "id": "fe53dcad",
   "metadata": {},
   "outputs": [],
   "source": [
    "cuts = \"XiccK_IPCHI2_OWNPV<15&XiccPi1_IPCHI2_OWNPV<15&XiccPi2_IPCHI2_OWNPV<15&Lc_IPCHI2_OWNPV<15&Lc_P>30000&Lc_PT>2000&Lc_LTIME>0.0003&LcPi_PIDK!=0&XiccPi1_PIDK!=0&XiccPi2_PIDK!=0\"#&Xicc_ENDVERTEX_CHI2_NDOF<5\"\n",
    "\n",
    "data_df16_cuts = data_df16.query(cuts)\n",
    "data_df17_cuts = data_df17.query(cuts)\n",
    "data_df18_cuts = data_df18.query(cuts)\n",
    "data_df18b_cuts = data_df18b.query(cuts)\n",
    "\n",
    "# & XiccK_PIDK>10&XiccPi1_PIDK<0&XiccPi2_PIDK<0"
   ]
  },
  {
   "cell_type": "code",
   "execution_count": null,
   "id": "7476e7bb",
   "metadata": {},
   "outputs": [],
   "source": [
    "obs_min = 3470\n",
    "obs_max = 3770\n",
    "obs_bin_width = 3\n",
    "obs_bin = int((obs_max-obs_min)/obs_bin_width)"
   ]
  },
  {
   "cell_type": "code",
   "execution_count": null,
   "id": "f4cdb8b4",
   "metadata": {},
   "outputs": [],
   "source": [
    "def plot(data,bins, obs_min, obs_max, xlabel, label = None, density = False):\n",
    "    h, bins = np.histogram(data, bins=bins, range=[obs_min, obs_max])\n",
    "    mplhep.histplot(h, bins, density=density, yerr=True, label = label)\n",
    "    plt.xlabel(xlabel)\n",
    "    plt.ylabel(f'Events/( {obs_bin_width} MeV/$c^2$ )')\n",
    "    plt.xlim(bins[0], bins[-1])"
   ]
  },
  {
   "cell_type": "code",
   "execution_count": null,
   "id": "47c47380",
   "metadata": {
    "scrolled": false
   },
   "outputs": [],
   "source": [
    "# # plot(data_df16.Lc_M, 100, 2200, 2370,'Lc_M', density = True , label = r\"2016\")\n",
    "plot(data_df16_cuts.Lc_M, 100, 2200, 2370,'Lc_M', density = True , label = r\"2016 with cuts\")\n",
    "# plot(data_df17.Lc_M, 100, 2200, 2370,'Lc_M', density = True  , label = r\"2017\")\n",
    "# plot(data_df18.Lc_M, 100, 2200, 2370,'Lc_M', density = True  , label = r\"2018\")\n",
    "plot(data_df17_cuts.Lc_M, 100, 2200, 2370,'Lc_M', density = True  , label = r\"2017 with cuts\")\n",
    "plot(data_df18_cuts.Lc_M, 100, 2200, 2370,'Lc_M', density = True  , label = r\"2018 with cuts\")\n",
    "plt.legend(loc='best')"
   ]
  },
  {
   "cell_type": "code",
   "execution_count": null,
   "id": "980fc162",
   "metadata": {},
   "outputs": [],
   "source": [
    "plot(data_df16.Lc_M, 100, 2200, 2370,'Lc_M', density = True , label = r\"2016\")\n",
    "# plot(data_df16_cuts.Lc_M, 100, 2200, 2370,'Lc_M', density = True , label = r\"2016 with cuts\")\n",
    "plot(data_df17.Lc_M, 100, 2200, 2370,'Lc_M', density = True  , label = r\"2017\")\n",
    "plot(data_df18.Lc_M, 100, 2200, 2370,'Lc_M', density = True  , label = r\"2018\")\n",
    "plot(data_df18b.Lc_M, 100, 2200, 2370,'Lc_M', density = True  , label = r\"2018b\")\n",
    "# plot(data_df17_cuts.Lc_M, 100, 2200, 2370,'Lc_M', density = True  , label = r\"2017 with cuts\")\n",
    "# plot(data_df18_cuts.Lc_M, 100, 2200, 2370,'Lc_M', density = True  , label = r\"2018 with cuts\")\n",
    "plt.legend(loc='best')"
   ]
  },
  {
   "cell_type": "code",
   "execution_count": null,
   "id": "e1ec0fc9",
   "metadata": {},
   "outputs": [],
   "source": [
    "plot(data_df16.Lc_DIRA_OWNPV, 100, 0.9999, 1,'Lc_DIRA_OWNPV', density = True , label = r\"2016\")\n",
    "plot(data_df17.Lc_DIRA_OWNPV, 100, 0.9999, 1,'Lc_DIRA_OWNPV', density = True  , label = r\"2017\")\n",
    "plot(data_df18.Lc_DIRA_OWNPV, 100, 0.9999, 1,'Lc_DIRA_OWNPV', density = True  , label = r\"2018\")\n",
    "plt.legend(loc='best')"
   ]
  },
  {
   "cell_type": "code",
   "execution_count": null,
   "id": "e0e0b8b0",
   "metadata": {},
   "outputs": [],
   "source": [
    "plot(data_df16.Lc_ENDVERTEX_CHI2_NDOF, 100, 0, 15,'Lc_ENDVERTEX_CHI2_NDOF', density = True , label = r\"2016\")\n",
    "plot(data_df17.Lc_ENDVERTEX_CHI2_NDOF, 100, 0, 15,'Lc_ENDVERTEX_CHI2_NDOF', density = True  , label = r\"2017\")\n",
    "plot(data_df18.Lc_ENDVERTEX_CHI2_NDOF, 100, 0, 15,'Lc_ENDVERTEX_CHI2_NDOF', density = True  , label = r\"2018\")\n",
    "plt.legend(loc='best')"
   ]
  },
  {
   "cell_type": "code",
   "execution_count": null,
   "id": "e3a66ada",
   "metadata": {},
   "outputs": [],
   "source": [
    "plot(data_df16.Lc_TAU, 100, 0, 0.001,'Lc_TAU', density = True , label = r\"2016\")\n",
    "plot(data_df17.Lc_TAU, 100, 0, 0.001,'Lc_TAU', density = True  , label = r\"2017\")\n",
    "plot(data_df18.Lc_TAU, 100, 0, 0.001,'Lc_TAU', density = True  , label = r\"2018\")\n",
    "plt.legend(loc='best')"
   ]
  },
  {
   "cell_type": "code",
   "execution_count": null,
   "id": "e09ac80d",
   "metadata": {},
   "outputs": [],
   "source": [
    "plot(data_df16.Lc_LTIME, 100, 0, 0.003,'Lc_LTIME', density = True , label = r\"2016\")\n",
    "plot(data_df17.Lc_LTIME, 100, 0, 0.003,'Lc_LTIME', density = True  , label = r\"2017\")\n",
    "plot(data_df18.Lc_LTIME, 100, 0, 0.003,'Lc_LTIME', density = True  , label = r\"2018\")\n",
    "plt.legend(loc='best')"
   ]
  },
  {
   "cell_type": "code",
   "execution_count": null,
   "id": "62a2ba63",
   "metadata": {},
   "outputs": [],
   "source": [
    "plot(data_df16.Lc_IPCHI2_OWNPV, 100, 0, 25,'Lc_IPCHI2_OWNPV', density = True , label = r\"2016\")\n",
    "plot(data_df17.Lc_IPCHI2_OWNPV, 100, 0, 25,'Lc_IPCHI2_OWNPV', density = True  , label = r\"2017\")\n",
    "plot(data_df18.Lc_IPCHI2_OWNPV, 100, 0, 25,'Lc_IPCHI2_OWNPV', density = True  , label = r\"2018\")\n",
    "plot(data_df18b.Lc_IPCHI2_OWNPV, 100, 0, 25,'Lc_IPCHI2_OWNPV', density = True  , label = r\"2018b\")\n",
    "plt.legend(loc='best')"
   ]
  },
  {
   "cell_type": "code",
   "execution_count": null,
   "id": "2c5cbe5b",
   "metadata": {},
   "outputs": [],
   "source": [
    "plot(data_df16.Lc_P, 100, 0, 50000,'Lc_P', density = True , label = r\"2016\")\n",
    "plot(data_df17.Lc_P, 100, 0, 50000,'Lc_P', density = True  , label = r\"2017\")\n",
    "plot(data_df18.Lc_P, 100, 0, 50000,'Lc_P', density = True  , label = r\"2018\")\n",
    "plt.legend(loc='best')"
   ]
  },
  {
   "cell_type": "code",
   "execution_count": null,
   "id": "4a514fbc",
   "metadata": {},
   "outputs": [],
   "source": [
    "plot(data_df16.Lc_PT, 100, 0, 5000,'Lc_PT', density = True , label = r\"2016\")\n",
    "plot(data_df17.Lc_PT, 100, 0, 5000,'Lc_PT', density = True  , label = r\"2017\")\n",
    "plot(data_df18.Lc_PT, 100, 0, 5000,'Lc_PT', density = True  , label = r\"2018\")\n",
    "plt.legend(loc='best')"
   ]
  },
  {
   "cell_type": "markdown",
   "id": "aba4ceaa",
   "metadata": {},
   "source": [
    "## Lc daughters"
   ]
  },
  {
   "cell_type": "markdown",
   "id": "eac3fac9",
   "metadata": {},
   "source": [
    "### LcP"
   ]
  },
  {
   "cell_type": "code",
   "execution_count": null,
   "id": "fda485f4",
   "metadata": {},
   "outputs": [],
   "source": [
    "plot(data_df16.LcP_TRACK_CHI2NDOF, 100, 0, 5,'LcP_TRACK_CHI2NDOF', density = True , label = r\"2016\")\n",
    "plot(data_df17.LcP_TRACK_CHI2NDOF, 100, 0, 5,'LcP_TRACK_CHI2NDOF', density = True  , label = r\"2017\")\n",
    "plot(data_df18.LcP_TRACK_CHI2NDOF, 100, 0, 5,'LcP_TRACK_CHI2NDOF', density = True  , label = r\"2018\")\n",
    "plt.legend(loc='best')"
   ]
  },
  {
   "cell_type": "code",
   "execution_count": null,
   "id": "dce9daf9",
   "metadata": {},
   "outputs": [],
   "source": [
    "plot(data_df16.LcP_P, 100, 0, 100000,'LcP_P', density = True , label = r\"2016\")\n",
    "plot(data_df17.LcP_P, 100, 0, 100000,'LcP_P', density = True  , label = r\"2017\")\n",
    "plot(data_df18.LcP_P, 100, 0, 100000,'LcP_P', density = True  , label = r\"2018\")\n",
    "plt.legend(loc='best')"
   ]
  },
  {
   "cell_type": "code",
   "execution_count": null,
   "id": "48db186d",
   "metadata": {},
   "outputs": [],
   "source": [
    "plot(data_df16.LcP_PT, 100, 0, 1000,'LcP_PT', density = True , label = r\"2016\")\n",
    "plot(data_df17.LcP_PT, 100, 0, 1000,'LcP_PT', density = True  , label = r\"2017\")\n",
    "plot(data_df18.LcP_PT, 100, 0, 1000,'LcP_PT', density = True  , label = r\"2018\")\n",
    "plt.legend(loc='best')"
   ]
  },
  {
   "cell_type": "code",
   "execution_count": null,
   "id": "27f82c05",
   "metadata": {},
   "outputs": [],
   "source": [
    "plot(data_df16.LcP_IPCHI2_OWNPV, 100, 0, 100,'LcP_IPCHI2_OWNPV', density = True , label = r\"2016\")\n",
    "plot(data_df17.LcP_IPCHI2_OWNPV, 100, 0, 100,'LcP_IPCHI2_OWNPV', density = True  , label = r\"2017\")\n",
    "plot(data_df18.LcP_IPCHI2_OWNPV, 100, 0, 100,'LcP_IPCHI2_OWNPV', density = True  , label = r\"2018\")\n",
    "plt.legend(loc='best')"
   ]
  },
  {
   "cell_type": "code",
   "execution_count": null,
   "id": "df7670be",
   "metadata": {},
   "outputs": [],
   "source": [
    "plot(data_df16.LcP_PIDp, 100, 0, 25,'LcP_PIDp', density = True , label = r\"2016\")\n",
    "plot(data_df17.LcP_PIDp, 100, 0, 25,'LcP_PIDp', density = True  , label = r\"2017\")\n",
    "plot(data_df18.LcP_PIDp, 100, 0, 25,'LcP_PIDp', density = True  , label = r\"2018\")\n",
    "plt.legend(loc='best')"
   ]
  },
  {
   "cell_type": "code",
   "execution_count": null,
   "id": "a5032a18",
   "metadata": {},
   "outputs": [],
   "source": [
    "plot(data_df16.LcP_PIDp-data_df16.LcP_PIDK, 100, 0, 25,'LcP_PIDpK', density = True , label = r\"2016\")\n",
    "plot(data_df17.LcP_PIDp-data_df17.LcP_PIDK, 100, 0, 25,'LcP_PIDpK', density = True  , label = r\"2017\")\n",
    "plot(data_df18.LcP_PIDp-data_df18.LcP_PIDK, 100, 0, 25,'LcP_PIDpK', density = True  , label = r\"2018\")\n",
    "plt.legend(loc='best')"
   ]
  },
  {
   "cell_type": "markdown",
   "id": "cc03b895",
   "metadata": {},
   "source": [
    "### LcK\n"
   ]
  },
  {
   "cell_type": "code",
   "execution_count": null,
   "id": "86bd3240",
   "metadata": {},
   "outputs": [],
   "source": [
    "plot(data_df16.LcK_TRACK_CHI2NDOF, 100, 0, 5,'LcK_TRACK_CHI2NDOF', density = True , label = r\"2016\")\n",
    "plot(data_df17.LcK_TRACK_CHI2NDOF, 100, 0, 5,'LcK_TRACK_CHI2NDOF', density = True  , label = r\"2017\")\n",
    "plot(data_df18.LcK_TRACK_CHI2NDOF, 100, 0, 5,'LcK_TRACK_CHI2NDOF', density = True  , label = r\"2018\")\n",
    "plt.legend(loc='best')"
   ]
  },
  {
   "cell_type": "code",
   "execution_count": null,
   "id": "80c715f4",
   "metadata": {},
   "outputs": [],
   "source": [
    "plot(data_df16.LcK_P, 100, 0, 10000,'LcK_P', density = True , label = r\"2016\")\n",
    "plot(data_df17.LcK_P, 100, 0, 10000,'LcK_P', density = True  , label = r\"2017\")\n",
    "plot(data_df18.LcK_P, 100, 0, 10000,'LcK_P', density = True  , label = r\"2018\")\n",
    "plt.legend(loc='best')"
   ]
  },
  {
   "cell_type": "code",
   "execution_count": null,
   "id": "e948b6ff",
   "metadata": {},
   "outputs": [],
   "source": [
    "plot(data_df16.LcK_PT, 100, 0, 1000,'LcK_PT', density = True , label = r\"2016\")\n",
    "plot(data_df17.LcK_PT, 100, 0, 1000,'LcK_PT', density = True  , label = r\"2017\")\n",
    "plot(data_df18.LcK_PT, 100, 0, 1000,'LcK_PT', density = True  , label = r\"2018\")\n",
    "plt.legend(loc='best')"
   ]
  },
  {
   "cell_type": "code",
   "execution_count": null,
   "id": "83c8f39f",
   "metadata": {
    "scrolled": false
   },
   "outputs": [],
   "source": [
    "plot(data_df16.LcK_IPCHI2_OWNPV, 100, 0, 50,'LcK_IPCHI2_OWNPV', density = True , label = r\"2016\")\n",
    "plot(data_df17.LcK_IPCHI2_OWNPV, 100, 0, 50,'LcK_IPCHI2_OWNPV', density = True  , label = r\"2017\")\n",
    "plot(data_df18.LcK_IPCHI2_OWNPV, 100, 0, 50,'LcK_IPCHI2_OWNPV', density = True  , label = r\"2018\")\n",
    "plt.legend(loc='best')"
   ]
  },
  {
   "cell_type": "code",
   "execution_count": null,
   "id": "8cda4bc6",
   "metadata": {},
   "outputs": [],
   "source": [
    "plot(data_df16.LcK_PIDK, 100, 0, 25,'LcK_PIDK', density = True , label = r\"2016\")\n",
    "plot(data_df17.LcK_PIDK, 100, 0, 25,'LcK_PIDK', density = True  , label = r\"2017\")\n",
    "plot(data_df18.LcK_PIDK, 100, 0, 25,'LcK_PIDK', density = True  , label = r\"2018\")\n",
    "plt.legend(loc='best')"
   ]
  },
  {
   "cell_type": "code",
   "execution_count": null,
   "id": "abc1c9cb",
   "metadata": {},
   "outputs": [],
   "source": []
  },
  {
   "cell_type": "markdown",
   "id": "7ecd8c2d",
   "metadata": {},
   "source": [
    "### LcPi\n"
   ]
  },
  {
   "cell_type": "code",
   "execution_count": null,
   "id": "0d75b13a",
   "metadata": {},
   "outputs": [],
   "source": [
    "plot(data_df16.LcPi_TRACK_CHI2NDOF, 100, 0, 5,'LcPi_TRACK_CHI2NDOF', density = True , label = r\"2016\")\n",
    "plot(data_df17.LcPi_TRACK_CHI2NDOF, 100, 0, 5,'LcPi_TRACK_CHI2NDOF', density = True  , label = r\"2017\")\n",
    "plot(data_df18.LcPi_TRACK_CHI2NDOF, 100, 0, 5,'LcPi_TRACK_CHI2NDOF', density = True  , label = r\"2018\")\n",
    "plt.legend(loc='best')"
   ]
  },
  {
   "cell_type": "code",
   "execution_count": null,
   "id": "eb6cf304",
   "metadata": {},
   "outputs": [],
   "source": [
    "plot(data_df16.LcPi_P, 100, 0, 10000,'LcPi_P', density = True , label = r\"2016\")\n",
    "plot(data_df17.LcPi_P, 100, 0, 10000,'LcPi_P', density = True  , label = r\"2017\")\n",
    "plot(data_df18.LcPi_P, 100, 0, 10000,'LcPi_P', density = True  , label = r\"2018\")\n",
    "plt.legend(loc='best')"
   ]
  },
  {
   "cell_type": "code",
   "execution_count": null,
   "id": "90d984d6",
   "metadata": {},
   "outputs": [],
   "source": [
    "plot(data_df16.LcPi_PT, 100, 0, 1000,'LcPi_PT', density = True , label = r\"2016\")\n",
    "plot(data_df17.LcPi_PT, 100, 0, 1000,'LcPi_PT', density = True  , label = r\"2017\")\n",
    "plot(data_df18.LcPi_PT, 100, 0, 1000,'LcPi_PT', density = True  , label = r\"2018\")\n",
    "plt.legend(loc='best')"
   ]
  },
  {
   "cell_type": "code",
   "execution_count": null,
   "id": "35fde7d5",
   "metadata": {
    "scrolled": false
   },
   "outputs": [],
   "source": [
    "plot(data_df16.LcPi_IPCHI2_OWNPV, 100, 0, 100,'LcPi_IPCHI2_OWNPV', density = True , label = r\"2016\")\n",
    "plot(data_df17.LcPi_IPCHI2_OWNPV, 100, 0, 100,'LcPi_IPCHI2_OWNPV', density = True  , label = r\"2017\")\n",
    "plot(data_df18.LcPi_IPCHI2_OWNPV, 100, 0, 100,'LcPi_IPCHI2_OWNPV', density = True  , label = r\"2018\")\n",
    "plt.legend(loc='best')"
   ]
  },
  {
   "cell_type": "code",
   "execution_count": null,
   "id": "f6f33d6c",
   "metadata": {},
   "outputs": [],
   "source": [
    "plot(data_df16.LcPi_PIDK, 100, -20, 10,'LcPi_PIDK', density = True , label = r\"2016\")\n",
    "plot(data_df17.LcPi_PIDK, 100, -20, 10,'LcPi_PIDK', density = True  , label = r\"2017\")\n",
    "plot(data_df18.LcPi_PIDK, 100, -20, 10,'LcPi_PIDK', density = True  , label = r\"2018\")\n",
    "plt.legend(loc='best')"
   ]
  },
  {
   "cell_type": "markdown",
   "id": "5503fdd4",
   "metadata": {},
   "source": [
    "## Xicc daughters"
   ]
  },
  {
   "cell_type": "markdown",
   "id": "72dad596",
   "metadata": {},
   "source": [
    "### XiccK"
   ]
  },
  {
   "cell_type": "code",
   "execution_count": null,
   "id": "de92efbb",
   "metadata": {},
   "outputs": [],
   "source": [
    "plot(data_df16.XiccK_TRACK_CHI2NDOF, 100, 0, 4,'XiccK_TRACK_CHI2NDOF', density = True , label = r\"2016\")\n",
    "plot(data_df17.XiccK_TRACK_CHI2NDOF, 100, 0, 4,'XiccK_TRACK_CHI2NDOF', density = True  , label = r\"2017\")\n",
    "plot(data_df18.XiccK_TRACK_CHI2NDOF, 100, 0, 4,'XiccK_TRACK_CHI2NDOF', density = True  , label = r\"2018\")\n",
    "plt.legend(loc='best')"
   ]
  },
  {
   "cell_type": "code",
   "execution_count": null,
   "id": "e6922c2b",
   "metadata": {},
   "outputs": [],
   "source": [
    "plot(data_df16.XiccK_TRACK_GhostProb, 100, 0, 0.5,'XiccK_TRACK_GhostProb', density = True , label = r\"2016\")\n",
    "plot(data_df17.XiccK_TRACK_GhostProb, 100, 0, 0.5,'XiccK_TRACK_GhostProb', density = True  , label = r\"2017\")\n",
    "plot(data_df18.XiccK_TRACK_GhostProb, 100, 0, 0.5,'XiccK_TRACK_GhostProb', density = True  , label = r\"2018\")\n",
    "plt.legend(loc='best')"
   ]
  },
  {
   "cell_type": "code",
   "execution_count": null,
   "id": "1b82f0ab",
   "metadata": {},
   "outputs": [],
   "source": [
    "plot(data_df16.XiccK_IPCHI2_OWNPV, 100, 0, 20,'XiccK_IPCHI2_OWNPV', density = True , label = r\"2016\")\n",
    "plot(data_df17.XiccK_IPCHI2_OWNPV, 100, 0, 20,'XiccK_IPCHI2_OWNPV', density = True  , label = r\"2017\")\n",
    "plot(data_df18.XiccK_IPCHI2_OWNPV, 100, 0, 20,'XiccK_IPCHI2_OWNPV', density = True  , label = r\"2018\")\n",
    "plt.legend(loc='best')"
   ]
  },
  {
   "cell_type": "code",
   "execution_count": null,
   "id": "eb464c0c",
   "metadata": {},
   "outputs": [],
   "source": [
    "plot(data_df16.XiccK_PT, 100, 200, 1000,'XiccK_PT', density = True , label = r\"2016\")\n",
    "plot(data_df17.XiccK_PT, 100, 200, 1000,'XiccK_PT', density = True  , label = r\"2017\")\n",
    "plot(data_df18.XiccK_PT, 100, 200, 1000,'XiccK_PT', density = True  , label = r\"2018\")\n",
    "plt.legend(loc='best')"
   ]
  },
  {
   "cell_type": "code",
   "execution_count": null,
   "id": "6bd84535",
   "metadata": {},
   "outputs": [],
   "source": [
    "plot(data_df16.XiccK_P, 100, 0, 20000,'XiccK_P', density = True , label = r\"2016\")\n",
    "plot(data_df17.XiccK_P, 100, 0, 20000,'XiccK_P', density = True  , label = r\"2017\")\n",
    "plot(data_df18.XiccK_P, 100, 0, 20000,'XiccK_P', density = True  , label = r\"2018\")\n",
    "plt.legend(loc='best')"
   ]
  },
  {
   "cell_type": "code",
   "execution_count": null,
   "id": "ad80f314",
   "metadata": {},
   "outputs": [],
   "source": [
    "plot(data_df16.XiccK_ProbNNk, 100, 0, 1,'XiccK_ProbNNk', density = True , label = r\"2016\")\n",
    "plot(data_df17.XiccK_ProbNNk, 100, 0, 1,'XiccK_ProbNNk', density = True  , label = r\"2017\")\n",
    "plot(data_df18.XiccK_ProbNNk, 100, 0, 1,'XiccK_ProbNNk', density = True  , label = r\"2018\")\n",
    "plt.legend(loc='best')"
   ]
  },
  {
   "cell_type": "code",
   "execution_count": null,
   "id": "a7da6bf3",
   "metadata": {},
   "outputs": [],
   "source": [
    "plot(data_df16.XiccK_PIDK, 100, -10, 25,'XiccK_PIDK', density = True , label = r\"2016\")\n",
    "plot(data_df17.XiccK_PIDK, 100, -10, 25,'XiccK_PIDK', density = True  , label = r\"2017\")\n",
    "plot(data_df18.XiccK_PIDK, 100, -10, 25,'XiccK_PIDK', density = True  , label = r\"2018\")\n",
    "plt.legend(loc='best')"
   ]
  },
  {
   "cell_type": "markdown",
   "id": "48680f60",
   "metadata": {},
   "source": [
    "### XiccPi1"
   ]
  },
  {
   "cell_type": "code",
   "execution_count": null,
   "id": "57914686",
   "metadata": {},
   "outputs": [],
   "source": [
    "plot(data_df16.XiccPi1_TRACK_CHI2NDOF, 100, 0, 4,'XiccPi1_TRACK_CHI2NDOF', density = True , label = r\"2016\")\n",
    "plot(data_df17.XiccPi1_TRACK_CHI2NDOF, 100, 0, 4,'XiccPi1_TRACK_CHI2NDOF', density = True  , label = r\"2017\")\n",
    "plot(data_df18.XiccPi1_TRACK_CHI2NDOF, 100, 0, 4,'XiccPi1_TRACK_CHI2NDOF', density = True  , label = r\"2018\")\n",
    "plt.legend(loc='best')"
   ]
  },
  {
   "cell_type": "code",
   "execution_count": null,
   "id": "a1afe7e3",
   "metadata": {},
   "outputs": [],
   "source": [
    "plot(data_df16.XiccPi1_TRACK_GhostProb, 100, 0, 1,'XiccPi1_TRACK_GhostProb', density = True , label = r\"2016\")\n",
    "plot(data_df17.XiccPi1_TRACK_GhostProb, 100, 0, 1,'XiccPi1_TRACK_GhostProb', density = True  , label = r\"2017\")\n",
    "plot(data_df18.XiccPi1_TRACK_GhostProb, 100, 0, 1,'XiccPi1_TRACK_GhostProb', density = True  , label = r\"2018\")\n",
    "plt.legend(loc='best')"
   ]
  },
  {
   "cell_type": "code",
   "execution_count": null,
   "id": "8efec89d",
   "metadata": {},
   "outputs": [],
   "source": [
    "plot(data_df16.XiccPi1_IPCHI2_OWNPV, 100, 0, 20,'XiccPi1_IPCHI2_OWNPV', density = True , label = r\"2016\")\n",
    "plot(data_df17.XiccPi1_IPCHI2_OWNPV, 100, 0, 20,'XiccPi1_IPCHI2_OWNPV', density = True  , label = r\"2017\")\n",
    "plot(data_df18.XiccPi1_IPCHI2_OWNPV, 100, 0, 20,'XiccPi1_IPCHI2_OWNPV', density = True  , label = r\"2018\")\n",
    "plt.legend(loc='best')"
   ]
  },
  {
   "cell_type": "code",
   "execution_count": null,
   "id": "3fd13e24",
   "metadata": {},
   "outputs": [],
   "source": [
    "plot(data_df16.XiccPi1_PT, 100, 0, 600,'XiccPi1_PT', density = True , label = r\"2016\")\n",
    "plot(data_df17.XiccPi1_PT, 100, 0, 600,'XiccPi1_PT', density = True  , label = r\"2017\")\n",
    "plot(data_df18.XiccPi1_PT, 100, 0, 600,'XiccPi1_PT', density = True  , label = r\"2018\")\n",
    "plt.legend(loc='best')"
   ]
  },
  {
   "cell_type": "code",
   "execution_count": null,
   "id": "a1b4d480",
   "metadata": {},
   "outputs": [],
   "source": [
    "plot(data_df16.XiccPi1_P, 100, 0, 50000,'XiccPi1_P', density = True , label = r\"2016\")\n",
    "plot(data_df17.XiccPi1_P, 100, 0, 50000,'XiccPi1_P', density = True  , label = r\"2017\")\n",
    "plot(data_df18.XiccPi1_P, 100, 0, 50000,'XiccPi1_P', density = True  , label = r\"2018\")\n",
    "plt.legend(loc='best')"
   ]
  },
  {
   "cell_type": "code",
   "execution_count": null,
   "id": "d37216c5",
   "metadata": {},
   "outputs": [],
   "source": [
    "plot(data_df16.XiccPi1_ProbNNpi, 100, 0, 1,'XiccPi1_ProbNNk', density = True , label = r\"2016\")\n",
    "plot(data_df17.XiccPi1_ProbNNpi, 100, 0, 1,'XiccPi1_ProbNNk', density = True  , label = r\"2017\")\n",
    "plot(data_df18.XiccPi1_ProbNNpi, 100, 0, 1,'XiccPi1_ProbNNk', density = True  , label = r\"2018\")\n",
    "plt.legend(loc='best')"
   ]
  },
  {
   "cell_type": "code",
   "execution_count": null,
   "id": "ed2db531",
   "metadata": {},
   "outputs": [],
   "source": [
    "plot(data_df16.XiccPi1_PIDK, 100, -20, 15,'XiccPi1_PIDK', density = True , label = r\"2016\")\n",
    "plot(data_df17.XiccPi1_PIDK, 100, -20, 15,'XiccPi1_PIDK', density = True  , label = r\"2017\")\n",
    "plot(data_df18.XiccPi1_PIDK, 100, -20, 15,'XiccPi1_PIDK', density = True  , label = r\"2018\")\n",
    "plt.legend(loc='best')"
   ]
  },
  {
   "cell_type": "markdown",
   "id": "f8900bee",
   "metadata": {},
   "source": [
    "## Xicc"
   ]
  },
  {
   "cell_type": "code",
   "execution_count": null,
   "id": "e2c548ab",
   "metadata": {},
   "outputs": [],
   "source": [
    "# plot(data_df16.sum_Xicc_Daughters_PT, 100, 0, 10000,'sum_Xicc_Daughters_PT', density = True , label = r\"2016\")\n",
    "# plot(data_df17.sum_Xicc_Daughters_PT, 100, 0, 10000,'sum_Xicc_Daughters_PT', density = True  , label = r\"2017\")\n",
    "# plot(data_df18.sum_Xicc_Daughters_PT, 100, 0, 10000,'sum_Xicc_Daughters_PT', density = True  , label = r\"2018\")\n",
    "# plt.legend(loc='best')"
   ]
  },
  {
   "cell_type": "code",
   "execution_count": null,
   "id": "8e99dac4",
   "metadata": {},
   "outputs": [],
   "source": [
    "# plot(data_df16_cuts.Xicc_ENDVERTEX_CHI2_NDOF, 100, 0, 30,'Xicc_ENDVERTEX_CHI2_NDOF', density = True , label = r\"2016 with cuts\")\n",
    "plot(data_df16.Xicc_ENDVERTEX_CHI2_NDOF, 100, 0, 30,'Xicc_ENDVERTEX_CHI2_NDOF', density = True , label = r\"2016\")\n",
    "plot(data_df17.Xicc_ENDVERTEX_CHI2_NDOF, 100, 0, 30,'Xicc_ENDVERTEX_CHI2_NDOF', density = True  , label = r\"2017\")\n",
    "plot(data_df18.Xicc_ENDVERTEX_CHI2_NDOF, 100, 0, 30,'Xicc_ENDVERTEX_CHI2_NDOF', density = True  , label = r\"2018\")\n",
    "plot(data_df18b.Xicc_ENDVERTEX_CHI2_NDOF, 100, 0, 30,'Xicc_ENDVERTEX_CHI2_NDOF', density = True  , label = r\"2018b\")\n",
    "plt.legend(loc='best')"
   ]
  },
  {
   "cell_type": "code",
   "execution_count": null,
   "id": "e8c81d24",
   "metadata": {},
   "outputs": [],
   "source": [
    "plot(data_df16_cuts.Xicc_ENDVERTEX_CHI2_NDOF, 100, 0, 30,'Xicc_ENDVERTEX_CHI2_NDOF', density = True , label = r\"2016 with cuts\")\n",
    "plot(data_df17_cuts.Xicc_ENDVERTEX_CHI2_NDOF, 100, 0, 30,'Xicc_ENDVERTEX_CHI2_NDOF', density = True  , label = r\"2017 with cuts\")\n",
    "plot(data_df18_cuts.Xicc_ENDVERTEX_CHI2_NDOF, 100, 0, 30,'Xicc_ENDVERTEX_CHI2_NDOF', density = True  , label = r\"2018 with cuts\")\n",
    "plt.legend(loc='best')"
   ]
  },
  {
   "cell_type": "code",
   "execution_count": null,
   "id": "17bcfd16",
   "metadata": {},
   "outputs": [],
   "source": [
    "# plot(data_df16_cuts.Xicc_IPCHI2_OWNPV, 100, 0, 30,'Xicc_IPCHI2_OWNPV', density = True , label = r\"2016 w cuts\")\n",
    "plot(data_df16.Xicc_IPCHI2_OWNPV, 100, 0, 30,'Xicc_IPCHI2_OWNPV', density = True , label = r\"2016\")\n",
    "plot(data_df17.Xicc_IPCHI2_OWNPV, 100, 0, 30,'Xicc_IPCHI2_OWNPV', density = True  , label = r\"2017\")\n",
    "plot(data_df18.Xicc_IPCHI2_OWNPV, 100, 0, 30,'Xicc_IPCHI2_OWNPV', density = True  , label = r\"2018\")\n",
    "plot(data_df18b.Xicc_IPCHI2_OWNPV, 100, 0, 30,'Xicc_IPCHI2_OWNPV', density = True  , label = r\"2018b\")\n",
    "plt.legend(loc='best')"
   ]
  },
  {
   "cell_type": "code",
   "execution_count": null,
   "id": "463d778b",
   "metadata": {},
   "outputs": [],
   "source": [
    "plot(data_df16_cuts.Xicc_IPCHI2_OWNPV, 100, 0, 30,'Xicc_IPCHI2_OWNPV', density = True  , label = r\"2016 w cuts\")\n",
    "plot(data_df17_cuts.Xicc_IPCHI2_OWNPV, 100, 0, 30,'Xicc_IPCHI2_OWNPV', density = True  , label = r\"2017 w cuts\")\n",
    "plot(data_df18_cuts.Xicc_IPCHI2_OWNPV, 100, 0, 30,'Xicc_IPCHI2_OWNPV', density = True  , label = r\"2018 w cuts\")\n",
    "plt.legend(loc='best')"
   ]
  },
  {
   "cell_type": "code",
   "execution_count": null,
   "id": "af679188",
   "metadata": {},
   "outputs": [],
   "source": [
    "plot(np.log(data_df16_cuts.Xicc_IPCHI2_OWNPV), 100, -6, 4,'log(Xicc_IPCHI2_OWNPV)', density = True  , label = r\"2016 w cuts\")\n",
    "plot(np.log(data_df17_cuts.Xicc_IPCHI2_OWNPV), 100, -6, 4,'log(Xicc_IPCHI2_OWNPV)', density = True  , label = r\"2017 w cuts\")\n",
    "plot(np.log(data_df18_cuts.Xicc_IPCHI2_OWNPV), 100, -6, 4,'log(Xicc_IPCHI2_OWNPV)', density = True  , label = r\"2018 w cuts\")\n",
    "plt.legend(loc='best')"
   ]
  },
  {
   "cell_type": "code",
   "execution_count": null,
   "id": "9864ec67",
   "metadata": {},
   "outputs": [],
   "source": []
  },
  {
   "cell_type": "code",
   "execution_count": null,
   "id": "df60ed46",
   "metadata": {},
   "outputs": [],
   "source": [
    "plot(data_df16.Xicc_DIRA_OWNPV, 100, 0.999, 1,'Xicc_DIRA_OWNPV', density = True , label = r\"2016\")\n",
    "plot(data_df17.Xicc_DIRA_OWNPV, 100, 0.999, 1,'Xicc_DIRA_OWNPV', density = True  , label = r\"2017\")\n",
    "plot(data_df18.Xicc_DIRA_OWNPV, 100, 0.999, 1,'Xicc_DIRA_OWNPV', density = True  , label = r\"2018\")\n",
    "plt.legend(loc='best')"
   ]
  },
  {
   "cell_type": "code",
   "execution_count": null,
   "id": "51d74042",
   "metadata": {},
   "outputs": [],
   "source": [
    "plot(data_df16_cuts.Xicc_DIRA_OWNPV, 100, 0.999, 1,'Xicc_DIRA_OWNPV', density = True , label = r\"2016 w cuts\")\n",
    "plot(data_df17_cuts.Xicc_DIRA_OWNPV, 100, 0.999, 1,'Xicc_DIRA_OWNPV', density = True  , label = r\"2017 w cuts\")\n",
    "plot(data_df18_cuts.Xicc_DIRA_OWNPV, 100, 0.999, 1,'Xicc_DIRA_OWNPV', density = True  , label = r\"2018 w cuts\")\n",
    "plt.legend(loc='best')"
   ]
  },
  {
   "cell_type": "markdown",
   "id": "6eccddcc",
   "metadata": {},
   "source": [
    "# MVA Variables"
   ]
  },
  {
   "cell_type": "code",
   "execution_count": null,
   "id": "0d4e2e89",
   "metadata": {},
   "outputs": [],
   "source": [
    "plot(np.log(data_df16_cuts.Xicc_IPCHI2_OWNPV), 100, -6, 4,'log(Xicc_IPCHI2_OWNPV)', density = True  , label = r\"2016 w cuts\")\n",
    "plot(np.log(data_df17_cuts.Xicc_IPCHI2_OWNPV), 100, -6, 4,'log(Xicc_IPCHI2_OWNPV)', density = True  , label = r\"2017 w cuts\")\n",
    "plot(np.log(data_df18_cuts.Xicc_IPCHI2_OWNPV), 100, -6, 4,'log(Xicc_IPCHI2_OWNPV)', density = True  , label = r\"2018 w cuts\")\n",
    "plt.legend(loc='best')"
   ]
  },
  {
   "cell_type": "code",
   "execution_count": null,
   "id": "f0ab8c9f",
   "metadata": {},
   "outputs": [],
   "source": [
    "plot(np.arccos(data_df16_cuts.Xicc_DIRA_OWNPV), 100, 0, 0.14,'acos(Xicc_DIRA_OWNPV)', density = True , label = r\"2016 w cuts\")\n",
    "plot(np.arccos(data_df17_cuts.Xicc_DIRA_OWNPV), 100, 0, 0.14,'acos(Xicc_DIRA_OWNPV)', density = True  , label = r\"2017 w cuts\")\n",
    "plot(np.arccos(data_df18_cuts.Xicc_DIRA_OWNPV), 100, 0, 0.14,'acos(Xicc_DIRA_OWNPV)', density = True  , label = r\"2018 w cuts\")\n",
    "plt.legend(loc='best')"
   ]
  },
  {
   "cell_type": "code",
   "execution_count": null,
   "id": "f06f3325",
   "metadata": {},
   "outputs": [],
   "source": [
    "plot(np.log(data_df16_cuts.Xicc_FDCHI2_OWNPV), 100, -9, 14,'log(Xicc_FDCHI2_OWNPV)', density = True  , label = r\"2016 w cuts\")\n",
    "plot(np.log(data_df17_cuts.Xicc_FDCHI2_OWNPV), 100, -9, 14,'log(Xicc_FDCHI2_OWNPV)', density = True  , label = r\"2017 w cuts\")\n",
    "plot(np.log(data_df18_cuts.Xicc_FDCHI2_OWNPV), 100, -9, 14,'log(Xicc_FDCHI2_OWNPV)', density = True  , label = r\"2018 w cuts\")\n",
    "plt.legend(loc='best')"
   ]
  },
  {
   "cell_type": "code",
   "execution_count": null,
   "id": "42252a8f",
   "metadata": {},
   "outputs": [],
   "source": [
    "plot(data_df16_cuts.Lc_ENDVERTEX_CHI2_NDOF, 100, 0, 10,'Lc_ENDVERTEX_CHI2_NDOF', density = True , label = r\"2016 w cuts\")\n",
    "plot(data_df17_cuts.Lc_ENDVERTEX_CHI2_NDOF, 100, 0, 10,'Lc_ENDVERTEX_CHI2_NDOF', density = True  , label = r\"2017 w cuts\")\n",
    "plot(data_df18_cuts.Lc_ENDVERTEX_CHI2_NDOF, 100, 0, 10,'Lc_ENDVERTEX_CHI2_NDOF', density = True  , label = r\"2018 w cuts\")\n",
    "plt.legend(loc='best')"
   ]
  },
  {
   "cell_type": "code",
   "execution_count": null,
   "id": "2df1ad07",
   "metadata": {},
   "outputs": [],
   "source": [
    "plot(np.log(data_df16_cuts.Xicc_ENDVERTEX_CHI2_NDOF), 100, -5, 3,'log(Xicc_ENDVERTEX_CHI2_NDOF)', density = True , label = r\"2016 with cuts\")\n",
    "plot(np.log(data_df17_cuts.Xicc_ENDVERTEX_CHI2_NDOF), 100, -5, 3,'log(Xicc_ENDVERTEX_CHI2_NDOF)', density = True  , label = r\"2017 with cuts\")\n",
    "plot(np.log(data_df18_cuts.Xicc_ENDVERTEX_CHI2_NDOF), 100, -5, 3,'log(Xicc_ENDVERTEX_CHI2_NDOF)', density = True  , label = r\"2018 with cuts\")\n",
    "plt.legend(loc='best')"
   ]
  },
  {
   "cell_type": "code",
   "execution_count": null,
   "id": "dbf252ef",
   "metadata": {},
   "outputs": [],
   "source": []
  },
  {
   "cell_type": "code",
   "execution_count": null,
   "id": "bee89dec",
   "metadata": {},
   "outputs": [],
   "source": [
    "plot(data_df16_cuts.LcP_PIDp, 100, 0, 100,'LcP_PIDp', density = True , label = r\"2016\")\n",
    "plot(data_df17_cuts.LcP_PIDp, 100, 0, 100,'LcP_PIDp', density = True  , label = r\"2017\")\n",
    "plot(data_df18_cuts.LcP_PIDp, 100, 0, 100,'LcP_PIDp', density = True  , label = r\"2018\")\n",
    "plt.legend(loc='best')"
   ]
  },
  {
   "cell_type": "code",
   "execution_count": null,
   "id": "6901d0a4",
   "metadata": {},
   "outputs": [],
   "source": [
    "plot(data_df16_cuts.LcK_PIDK, 100, 0, 100,'LcK_PIDK', density = True , label = r\"2016\")\n",
    "plot(data_df17_cuts.LcK_PIDK, 100, 0, 100,'LcK_PIDK', density = True  , label = r\"2017\")\n",
    "plot(data_df18_cuts.LcK_PIDK, 100, 0, 100,'LcK_PIDK', density = True  , label = r\"2018\")\n",
    "plt.legend(loc='best')"
   ]
  },
  {
   "cell_type": "code",
   "execution_count": null,
   "id": "6a1d53b9",
   "metadata": {},
   "outputs": [],
   "source": [
    "plot(data_df16_cuts.LcPi_PIDK, 100, -100, 10,'LcPi_PIDK', density = True , label = r\"2016\")\n",
    "plot(data_df17_cuts.LcPi_PIDK, 100, -100, 10,'LcPi_PIDK', density = True  , label = r\"2017\")\n",
    "plot(data_df18_cuts.LcPi_PIDK, 100, -100, 10,'LcPi_PIDK', density = True  , label = r\"2018\")\n",
    "plt.legend(loc='best')"
   ]
  },
  {
   "cell_type": "code",
   "execution_count": null,
   "id": "c8dfb569",
   "metadata": {},
   "outputs": [],
   "source": [
    "plot(data_df16_cuts.XiccK_PIDK, 100, -20, 100,'XiccK_PIDK', density = True , label = r\"2016\")\n",
    "plot(data_df17_cuts.XiccK_PIDK, 100, -20, 100,'XiccK_PIDK', density = True  , label = r\"2017\")\n",
    "plot(data_df18_cuts.XiccK_PIDK, 100, -20, 100,'XiccK_PIDK', density = True  , label = r\"2018\")\n",
    "plt.legend(loc='best')"
   ]
  },
  {
   "cell_type": "code",
   "execution_count": null,
   "id": "bac35943",
   "metadata": {},
   "outputs": [],
   "source": [
    "plot(data_df16_cuts.XiccPi1_PIDK, 100, -100, 20,'XiccPi1_PIDK', density = True , label = r\"2016\")\n",
    "plot(data_df17_cuts.XiccPi1_PIDK, 100, -100, 20,'XiccPi1_PIDK', density = True  , label = r\"2017\")\n",
    "plot(data_df18_cuts.XiccPi1_PIDK, 100, -100, 20,'XiccPi1_PIDK', density = True  , label = r\"2018\")\n",
    "plt.legend(loc='best')"
   ]
  },
  {
   "cell_type": "code",
   "execution_count": null,
   "id": "8d03a262",
   "metadata": {},
   "outputs": [],
   "source": [
    "plot(data_df16_cuts.XiccPi2_PIDK, 100, -100, 20,'XiccPi2_PIDK', density = True , label = r\"2016\")\n",
    "plot(data_df17_cuts.XiccPi2_PIDK, 100, -100, 20,'XiccPi2_PIDK', density = True  , label = r\"2017\")\n",
    "plot(data_df18_cuts.XiccPi2_PIDK, 100, -100, 20,'XiccPi2_PIDK', density = True  , label = r\"2018\")\n",
    "plt.legend(loc='best')"
   ]
  },
  {
   "cell_type": "code",
   "execution_count": null,
   "id": "8e99315f",
   "metadata": {},
   "outputs": [],
   "source": []
  },
  {
   "cell_type": "code",
   "execution_count": null,
   "id": "e525ee8f",
   "metadata": {},
   "outputs": [],
   "source": [
    "plot(data_df16_cuts.Lc_PT, 100, 0, 20000,'Lc_PT', density = True , label = r\"2016\")\n",
    "plot(data_df17_cuts.Lc_PT, 100, 0, 20000,'Lc_PT', density = True  , label = r\"2017\")\n",
    "plot(data_df18_cuts.Lc_PT, 100, 0, 20000,'Lc_PT', density = True  , label = r\"2018\")\n",
    "plt.legend(loc='best')"
   ]
  },
  {
   "cell_type": "code",
   "execution_count": null,
   "id": "16962471",
   "metadata": {},
   "outputs": [],
   "source": [
    "plot(data_df16_cuts.XiccPi1_PT, 100, 0, 4000,'XiccPi1_PT', density = True , label = r\"2016\")\n",
    "plot(data_df17_cuts.XiccPi1_PT, 100, 0, 4000,'XiccPi1_PT', density = True  , label = r\"2017\")\n",
    "plot(data_df18_cuts.XiccPi1_PT, 100, 0, 4000,'XiccPi1_PT', density = True  , label = r\"2018\")\n",
    "plt.legend(loc='best')"
   ]
  },
  {
   "cell_type": "code",
   "execution_count": null,
   "id": "da04caf8",
   "metadata": {},
   "outputs": [],
   "source": [
    "plot(data_df16_cuts.XiccPi2_PT, 100, 0, 4000,'XiccPi2_PT', density = True , label = r\"2016\")\n",
    "plot(data_df17_cuts.XiccPi2_PT, 100, 0, 4000,'XiccPi2_PT', density = True  , label = r\"2017\")\n",
    "plot(data_df18_cuts.XiccPi2_PT, 100, 0, 4000,'XiccPi2_PT', density = True  , label = r\"2018\")\n",
    "plt.legend(loc='best')"
   ]
  },
  {
   "cell_type": "code",
   "execution_count": null,
   "id": "d18d211b",
   "metadata": {},
   "outputs": [],
   "source": [
    "plot(data_df16_cuts.XiccK_PT, 100, 0, 4000,'XiccK_PT', density = True , label = r\"2016\")\n",
    "plot(data_df17_cuts.XiccK_PT, 100, 0, 4000,'XiccK_PT', density = True  , label = r\"2017\")\n",
    "plot(data_df18_cuts.XiccK_PT, 100, 0, 4000,'XiccK_PT', density = True  , label = r\"2018\")\n",
    "plt.legend(loc='best')"
   ]
  },
  {
   "cell_type": "code",
   "execution_count": null,
   "id": "7c9685f6",
   "metadata": {},
   "outputs": [],
   "source": [
    "plot(np.log(data_df16_cuts.Lc_IPCHI2_OWNPV), 100, -9, 8,'log(Lc_IPCHI2_OWNPV)', density = True  , label = r\"2016 w cuts\")\n",
    "plot(np.log(data_df17_cuts.Lc_IPCHI2_OWNPV), 100, -9, 8,'log(Lc_IPCHI2_OWNPV)', density = True  , label = r\"2017 w cuts\")\n",
    "plot(np.log(data_df18_cuts.Lc_IPCHI2_OWNPV), 100, -9, 8,'log(Lc_IPCHI2_OWNPV)', density = True  , label = r\"2018 w cuts\")\n",
    "plt.legend(loc='best')"
   ]
  },
  {
   "cell_type": "code",
   "execution_count": null,
   "id": "a4379799",
   "metadata": {},
   "outputs": [],
   "source": [
    "plot(np.log(data_df16_cuts.XiccK_IPCHI2_OWNPV), 100, 0, 10,'log(XiccK_IPCHI2_OWNPV)', density = True  , label = r\"2016 w cuts\")\n",
    "plot(np.log(data_df17_cuts.XiccK_IPCHI2_OWNPV), 100, 0, 10,'log(XiccK_IPCHI2_OWNPV)', density = True  , label = r\"2017 w cuts\")\n",
    "plot(np.log(data_df18_cuts.XiccK_IPCHI2_OWNPV), 100, 0, 10,'log(XiccK_IPCHI2_OWNPV)', density = True  , label = r\"2018 w cuts\")\n",
    "plt.legend(loc='best')"
   ]
  },
  {
   "cell_type": "code",
   "execution_count": null,
   "id": "14771938",
   "metadata": {},
   "outputs": [],
   "source": [
    "plot(np.log(data_df16_cuts.XiccPi1_IPCHI2_OWNPV), 100, 0, 10,'log(XiccPi1_IPCHI2_OWNPV)', density = True  , label = r\"2016 w cuts\")\n",
    "plot(np.log(data_df17_cuts.XiccPi1_IPCHI2_OWNPV), 100, 0, 10,'log(XiccPi1_IPCHI2_OWNPV)', density = True  , label = r\"2017 w cuts\")\n",
    "plot(np.log(data_df18_cuts.XiccPi1_IPCHI2_OWNPV), 100, 0, 10,'log(XiccPi1_IPCHI2_OWNPV)', density = True  , label = r\"2018 w cuts\")\n",
    "plt.legend(loc='best')"
   ]
  },
  {
   "cell_type": "code",
   "execution_count": null,
   "id": "0c37ab96",
   "metadata": {},
   "outputs": [],
   "source": [
    "plot(np.log(data_df16_cuts.XiccPi2_IPCHI2_OWNPV), 100, 0, 10,'log(XiccPi2_IPCHI2_OWNPV)', density = True  , label = r\"2016 w cuts\")\n",
    "plot(np.log(data_df17_cuts.XiccPi2_IPCHI2_OWNPV), 100, 0, 10,'log(XiccPi2_IPCHI2_OWNPV)', density = True  , label = r\"2017 w cuts\")\n",
    "plot(np.log(data_df18_cuts.XiccPi2_IPCHI2_OWNPV), 100, 0, 10,'log(XiccPi2_IPCHI2_OWNPV)', density = True  , label = r\"2018 w cuts\")\n",
    "plt.legend(loc='best')"
   ]
  },
  {
   "cell_type": "code",
   "execution_count": null,
   "id": "419a2c94",
   "metadata": {},
   "outputs": [],
   "source": []
  }
 ],
 "metadata": {
  "kernelspec": {
   "display_name": "startkitEnv",
   "language": "python",
   "name": "startkitenv"
  },
  "language_info": {
   "codemirror_mode": {
    "name": "ipython",
    "version": 3
   },
   "file_extension": ".py",
   "mimetype": "text/x-python",
   "name": "python",
   "nbconvert_exporter": "python",
   "pygments_lexer": "ipython3",
   "version": "3.9.13"
  }
 },
 "nbformat": 4,
 "nbformat_minor": 5
}
