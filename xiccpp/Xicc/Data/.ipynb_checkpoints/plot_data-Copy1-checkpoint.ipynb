{
 "cells": [
  {
   "cell_type": "code",
   "execution_count": 1,
   "id": "5683b9f0",
   "metadata": {},
   "outputs": [],
   "source": [
    "import os\n",
    "os.environ['ZFIT_DISABLE_TF_WARNINGS'] = '1'\n",
    "# numpy is used for generating, storing, and plotting data\n",
    "import numpy as np\n",
    "\n",
    "import uproot\n",
    "\n",
    "# in order to visualise the results of the computation, we use matplotlib\n",
    "import matplotlib as mpl\n",
    "\n",
    "import matplotlib.pyplot as plt\n",
    "import mplhep\n",
    "plt.style.use(mplhep.style.LHCb2)\n",
    "plt.rcParams['text.usetex'] = True\n",
    "# for histograms boost has an easy api and is very fast\n",
    "import hist\n",
    "# for statistical distributions we can use a lot from scipy\n",
    "from scipy import stats"
   ]
  },
  {
   "cell_type": "markdown",
   "id": "3614d4fc",
   "metadata": {},
   "source": [
    "## File import, data processing\n",
    " "
   ]
  },
  {
   "cell_type": "code",
   "execution_count": null,
   "id": "bee2feb2",
   "metadata": {},
   "outputs": [],
   "source": [
    "path = \"/eos/lhcb/user/p/pgaigne/Collision-2016-MD-rec-job66-MVA.root\"\n",
    "\n",
    "file =  uproot.open(path)\n",
    "tree = file['tuple_sel_rec']\n",
    "\n",
    "branches_we_want = [\"Xicc_M\",\"Xicc_M_DTF\",\"Xicc_M_DTF_Lc\",\"Xicc_M_DTF_PV\",\"Xicc_M_DTF_Lc_PV\",\"Lc_M\",\"BDT\",\"BDTG\",\"MLP\",\"Polarity\",\"Xicc_ID\"] \n",
    "data_df = tree.arrays(library='pd')\n",
    "\n",
    "file.close()\n"
   ]
  },
  {
   "cell_type": "code",
   "execution_count": null,
   "id": "79e0451e",
   "metadata": {},
   "outputs": [],
   "source": [
    "fig, axs = plt.subplots(2, 3)\n",
    "\n",
    "axs[0,0].hist(data_df['log_Xicc_IPCHI2_OWNPV'] , bins=100, density = True, range=[-8, 4], label=\"log_Xicc_IPCHI2_OWNPV\", histtype='step')\n",
    "axs[0,0].set_xlabel(\"BDT response\")\n",
    "axs[0,0].legend()\n",
    "\n",
    "axs[0,1].hist(data_df['acos_Xicc_DIRA_OWNPV'] , bins=100, density = True, range=[0, 0.1], label=\"acos_Xicc_DIRA_OWNPV\", histtype='step')\n",
    "axs[0,1].set_xlabel(\"BDTG response\")\n",
    "axs[0,1].legend()\n",
    "\n",
    "axs[0,2].hist(data_df['log_Xicc_FDCHI2_OWNPV'] , bins=100, density = True, range=[0, 12], label=\"log_Xicc_FDCHI2_OWNPV\", histtype='step')\n",
    "axs[0,2].set_xlabel(\"MLP response\")\n",
    "axs[0,2].legend()\n",
    "\n",
    "axs[1,0].hist(data_df['Lc_ENDVERTEX_CHI2_NDOF'] , bins=100, density = True, range=[0, 10], label=\"Lc_ENDVERTEX_CHI2_NDOF\", histtype='step')\n",
    "axs[1,0].set_xlabel(\"BDT response\")\n",
    "axs[1,0].legend()\n",
    "\n",
    "axs[1,1].hist(data_df['log_Xicc_ENDVERTEX_CHI2_NDOF'] , bins=100, density = True, range=[-5, 5], label=\"log_Xicc_ENDVERTEX_CHI2_NDOF\", histtype='step')\n",
    "axs[1,1].set_xlabel(\"BDTG response\")\n",
    "axs[1,1].legend()\n",
    "\n",
    "axs[1,2].hist(data_df['log_Xicc_CHI2NDOF_DTF_PV'] , bins=100, density = True, range=[-2, 4], label=\"log_Xicc_CHI2NDOF_DTF_PV\", histtype='step')\n",
    "axs[1,2].set_xlabel(\"MLP response\")\n",
    "axs[1,2].legend()"
   ]
  },
  {
   "cell_type": "code",
   "execution_count": null,
   "id": "cf360b85",
   "metadata": {},
   "outputs": [],
   "source": [
    "fig, axs = plt.subplots(2, 3)\n",
    "\n",
    "axs[0,0].hist(data_df['LcP_PIDp'] , bins=100, density = True, range=[0, 120], label=\"log_Xicc_IPCHI2_OWNPV\", histtype='step')\n",
    "axs[0,0].set_xlabel(\"BDT response\")\n",
    "axs[0,0].legend()\n",
    "\n",
    "axs[0,1].hist(data_df['LcK_PIDK'] , bins=100, density = True, range=[0, 120], label=\"BDTG\", histtype='step')\n",
    "axs[0,1].set_xlabel(\"BDTG response\")\n",
    "axs[0,1].legend()\n",
    "\n",
    "axs[0,2].hist(data_df['LcPi_PIDK'] , bins=100, density = True, range=[-120, 0], label=\"MLP\", histtype='step')\n",
    "axs[0,2].set_xlabel(\"MLP response\")\n",
    "axs[0,2].legend()\n",
    "\n",
    "axs[1,0].hist(data_df['XiccK_PIDK'] , bins=100, density = True, range=[0, 120], label=\"log_Xicc_IPCHI2_OWNPV\", histtype='step')\n",
    "axs[1,0].set_xlabel(\"BDT response\")\n",
    "axs[1,0].legend()\n",
    "\n",
    "axs[1,1].hist(data_df['XiccPi1_PIDK'] , bins=100, density = True, range=[-120, 20], label=\"BDTG\", histtype='step')\n",
    "axs[1,1].set_xlabel(\"BDTG response\")\n",
    "axs[1,1].legend()\n",
    "\n",
    "axs[1,2].hist(data_df['XiccPi2_PIDK'] , bins=100, density = True, range=[-120, 20], label=\"MLP\", histtype='step')\n",
    "axs[1,2].set_xlabel(\"MLP response\")\n",
    "axs[1,2].legend()"
   ]
  },
  {
   "cell_type": "code",
   "execution_count": null,
   "id": "4ba92afe",
   "metadata": {},
   "outputs": [],
   "source": [
    "fig, axs = plt.subplots(2, 3)\n",
    "\n",
    "axs[0,0].hist(data_df['min_Xicc_Daughters_PT'] , bins=100, density = True, range=[0, 3500], label=\"log_Xicc_IPCHI2_OWNPV\", histtype='step')\n",
    "axs[0,0].set_xlabel(\"BDT response\")\n",
    "axs[0,0].legend()\n",
    "\n",
    "axs[0,1].hist(data_df['Lc_PT'] , bins=100, density = True, range=[0, 25000], label=\"BDTG\", histtype='step')\n",
    "axs[0,1].set_xlabel(\"BDTG response\")\n",
    "axs[0,1].legend()\n",
    "\n",
    "axs[0,2].hist(data_df['XiccPi1_PT'] , bins=100, density = True, range=[0, 7000], label=\"MLP\", histtype='step')\n",
    "axs[0,2].set_xlabel(\"MLP response\")\n",
    "axs[0,2].legend()\n",
    "\n",
    "axs[0].hist(data_df['XiccPi2_PT'] , bins=100, density = True, range=[0, 7000], label=\"log_Xicc_IPCHI2_OWNPV\", histtype='step')\n",
    "axs[0].set_xlabel(\"BDT response\")\n",
    "axs[0].legend()\n",
    "\n",
    "axs[1,1].hist(data_df['XiccK_PT'] , bins=100, density = True, range=[0, 10000], label=\"BDTG\", histtype='step')\n",
    "axs[1,1].set_xlabel(\"BDTG response\")\n",
    "axs[1,1].legend()\n",
    "\n",
    "axs[1,2].hist(data_df['log_Lc_IPCHI2_OWNPV'] , bins=100, density = True, range=[-8, 8], label=\"MLP\", histtype='step')\n",
    "axs[1,2].set_xlabel(\"MLP response\")\n",
    "axs[1,2].legend()"
   ]
  },
  {
   "cell_type": "code",
   "execution_count": null,
   "id": "afb93d35",
   "metadata": {},
   "outputs": [],
   "source": [
    "fig, axs = plt.subplots(2, 3)\n",
    "\n",
    "axs[0,0].hist(data_df['log_XiccK_IPCHI2_OWNPV'] , bins=100, density = True, range=[0, 10], label=\"log_Xicc_IPCHI2_OWNPV\", histtype='step')\n",
    "axs[0,0].set_xlabel(\"BDT response\")\n",
    "axs[0,0].legend()\n",
    "\n",
    "axs[0,1].hist(data_df['log_XiccPi1_IPCHI2_OWNPV'] , bins=100, density = True, range=[0, 10], label=\"BDTG\", histtype='step')\n",
    "axs[0,1].set_xlabel(\"BDTG response\")\n",
    "axs[0,1].legend()\n",
    "\n",
    "axs[0,2].hist(data_df['log_XiccPi2_IPCHI2_OWNPV'] , bins=100, density = True, range=[0, 10], label=\"MLP\", histtype='step')\n",
    "axs[0,2].set_xlabel(\"MLP response\")\n",
    "axs[0,2].legend()\n",
    "\n"
   ]
  }
 ],
 "metadata": {
  "kernelspec": {
   "display_name": "startkitEnv",
   "language": "python",
   "name": "startkitenv"
  },
  "language_info": {
   "codemirror_mode": {
    "name": "ipython",
    "version": 3
   },
   "file_extension": ".py",
   "mimetype": "text/x-python",
   "name": "python",
   "nbconvert_exporter": "python",
   "pygments_lexer": "ipython3",
   "version": "3.9.13"
  }
 },
 "nbformat": 4,
 "nbformat_minor": 5
}
