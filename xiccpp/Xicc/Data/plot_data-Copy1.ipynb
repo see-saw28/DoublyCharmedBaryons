{
 "cells": [
  {
   "cell_type": "code",
   "execution_count": 1,
   "id": "5683b9f0",
   "metadata": {},
   "outputs": [],
   "source": [
    "import os\n",
    "os.environ['ZFIT_DISABLE_TF_WARNINGS'] = '1'\n",
    "# numpy is used for generating, storing, and plotting data\n",
    "import numpy as np\n",
    "\n",
    "import uproot\n",
    "\n",
    "# in order to visualise the results of the computation, we use matplotlib\n",
    "import matplotlib as mpl\n",
    "\n",
    "import matplotlib.pyplot as plt\n",
    "import mplhep\n",
    "plt.style.use(mplhep.style.LHCb2)\n",
    "plt.rcParams['text.usetex'] = True\n",
    "# for histograms boost has an easy api and is very fast\n",
    "import hist\n",
    "# for statistical distributions we can use a lot from scipy\n",
    "from scipy import stats"
   ]
  },
  {
   "cell_type": "markdown",
   "id": "3614d4fc",
   "metadata": {},
   "source": [
    "## File import, data processing\n",
    " "
   ]
  },
  {
   "cell_type": "code",
   "execution_count": 1,
   "id": "bee2feb2",
   "metadata": {},
   "outputs": [
    {
     "ename": "NameError",
     "evalue": "name 'uproot' is not defined",
     "output_type": "error",
     "traceback": [
      "\u001b[0;31m---------------------------------------------------------------------------\u001b[0m",
      "\u001b[0;31mNameError\u001b[0m                                 Traceback (most recent call last)",
      "Cell \u001b[0;32mIn [1], line 4\u001b[0m\n\u001b[1;32m      1\u001b[0m path \u001b[38;5;241m=\u001b[39m \u001b[38;5;124m\"\u001b[39m\u001b[38;5;124m/eos/lhcb/user/p/pgaigne/Collision-2016-MD-rec-job66-MVA.root\u001b[39m\u001b[38;5;124m\"\u001b[39m\n\u001b[1;32m      2\u001b[0m path \u001b[38;5;241m=\u001b[39m \u001b[38;5;124m\"\u001b[39m\u001b[38;5;124m/eos/lhcb/user/p/pgaigne/job66-CombDVntuple-full-evts-1-reduced-rec-MVA.root\u001b[39m\u001b[38;5;124m\"\u001b[39m\n\u001b[0;32m----> 4\u001b[0m file \u001b[38;5;241m=\u001b[39m  \u001b[43muproot\u001b[49m\u001b[38;5;241m.\u001b[39mopen(path)\n\u001b[1;32m      5\u001b[0m tree \u001b[38;5;241m=\u001b[39m file[\u001b[38;5;124m'\u001b[39m\u001b[38;5;124mtuple_sel_rec\u001b[39m\u001b[38;5;124m'\u001b[39m]\n\u001b[1;32m      7\u001b[0m branches_we_want \u001b[38;5;241m=\u001b[39m [\u001b[38;5;124m\"\u001b[39m\u001b[38;5;124mXicc_M\u001b[39m\u001b[38;5;124m\"\u001b[39m,\u001b[38;5;124m\"\u001b[39m\u001b[38;5;124mXicc_M_DTF\u001b[39m\u001b[38;5;124m\"\u001b[39m,\u001b[38;5;124m\"\u001b[39m\u001b[38;5;124mXicc_M_DTF_Lc\u001b[39m\u001b[38;5;124m\"\u001b[39m,\u001b[38;5;124m\"\u001b[39m\u001b[38;5;124mXicc_M_DTF_PV\u001b[39m\u001b[38;5;124m\"\u001b[39m,\u001b[38;5;124m\"\u001b[39m\u001b[38;5;124mXicc_M_DTF_Lc_PV\u001b[39m\u001b[38;5;124m\"\u001b[39m,\u001b[38;5;124m\"\u001b[39m\u001b[38;5;124mLc_M\u001b[39m\u001b[38;5;124m\"\u001b[39m,\u001b[38;5;124m\"\u001b[39m\u001b[38;5;124mBDT\u001b[39m\u001b[38;5;124m\"\u001b[39m,\u001b[38;5;124m\"\u001b[39m\u001b[38;5;124mBDTG\u001b[39m\u001b[38;5;124m\"\u001b[39m,\u001b[38;5;124m\"\u001b[39m\u001b[38;5;124mMLP\u001b[39m\u001b[38;5;124m\"\u001b[39m,\u001b[38;5;124m\"\u001b[39m\u001b[38;5;124mPolarity\u001b[39m\u001b[38;5;124m\"\u001b[39m,\u001b[38;5;124m\"\u001b[39m\u001b[38;5;124mXicc_ID\u001b[39m\u001b[38;5;124m\"\u001b[39m] \n",
      "\u001b[0;31mNameError\u001b[0m: name 'uproot' is not defined"
     ]
    }
   ],
   "source": [
    "path = \"/eos/lhcb/user/p/pgaigne/Collision-2016-MD-rec-job66-MVA.root\"\n",
    "path = \"/eos/lhcb/user/p/pgaigne/job66-CombDVntuple-full-evts-1-reduced-rec-MVA.root\"\n",
    "\n",
    "file =  uproot.open(path)\n",
    "tree = file['tuple_sel_rec']\n",
    "\n",
    "branches_we_want = [\"Xicc_M\",\"Xicc_M_DTF\",\"Xicc_M_DTF_Lc\",\"Xicc_M_DTF_PV\",\"Xicc_M_DTF_Lc_PV\",\"Lc_M\",\"BDT\",\"BDTG\",\"MLP\",\"Polarity\",\"Xicc_ID\"] \n",
    "data_df = tree.arrays(library='pd')\n",
    "\n",
    "file.close()\n"
   ]
  },
  {
   "cell_type": "code",
   "execution_count": null,
   "id": "170766bf",
   "metadata": {},
   "outputs": [],
   "source": [
    "fig, axs = plt.subplots(2, 3)\n",
    "\n",
    "axs[0,0].hist(data_df['log_Xicc_IPCHI2_OWNPV'] , bins=100, density = True, range=[-8, 4], label=\"log_Xicc_IPCHI2_OWNPV\", histtype='step')\n",
    "axs[0,0].set_xlabel(\"BDT response\")\n",
    "axs[0,0].legend()\n",
    "\n",
    "axs[0,1].hist(data_df['acos_Xicc_DIRA_OWNPV'] , bins=100, density = True, range=[0, 0.1], label=\"acos_Xicc_DIRA_OWNPV\", histtype='step')\n",
    "axs[0,1].set_xlabel(\"BDTG response\")\n",
    "axs[0,1].legend()\n",
    "\n",
    "axs[0,2].hist(data_df['log_Xicc_FDCHI2_OWNPV'] , bins=100, density = True, range=[0, 12], label=\"log_Xicc_FDCHI2_OWNPV\", histtype='step')\n",
    "axs[0,2].set_xlabel(\"MLP response\")\n",
    "axs[0,2].legend()\n",
    "\n",
    "axs[1,0].hist(data_df['Lc_ENDVERTEX_CHI2_NDOF'] , bins=100, density = True, range=[0, 10], label=\"Lc_ENDVERTEX_CHI2_NDOF\", histtype='step')\n",
    "axs[1,0].set_xlabel(\"BDT response\")\n",
    "axs[1,0].legend()\n",
    "\n",
    "axs[1,1].hist(data_df['log_Xicc_ENDVERTEX_CHI2_NDOF'] , bins=100, density = True, range=[-5, 5], label=\"log_Xicc_ENDVERTEX_CHI2_NDOF\", histtype='step')\n",
    "axs[1,1].set_xlabel(\"BDTG response\")\n",
    "axs[1,1].legend()\n",
    "\n",
    "axs[1,2].hist(data_df['log_Xicc_CHI2NDOF_DTF_PV'] , bins=100, density = True, range=[-2, 4], label=\"log_Xicc_CHI2NDOF_DTF_PV\", histtype='step')\n",
    "axs[1,2].set_xlabel(\"MLP response\")\n",
    "axs[1,2].legend()"
   ]
  },
  {
   "cell_type": "code",
   "execution_count": null,
   "id": "8aa3b5cb",
   "metadata": {},
   "outputs": [],
   "source": [
    "fig, axs = plt.subplots(2, 3)\n",
    "\n",
    "axs[0,0].hist(data_df['LcP_PIDp'] , bins=100, density = True, range=[0, 120], label=\"log_Xicc_IPCHI2_OWNPV\", histtype='step')\n",
    "axs[0,0].set_xlabel(\"BDT response\")\n",
    "axs[0,0].legend()\n",
    "\n",
    "axs[0,1].hist(data_df['LcK_PIDK'] , bins=100, density = True, range=[0, 120], label=\"BDTG\", histtype='step')\n",
    "axs[0,1].set_xlabel(\"BDTG response\")\n",
    "axs[0,1].legend()\n",
    "\n",
    "axs[0,2].hist(data_df['LcPi_PIDK'] , bins=100, density = True, range=[-120, 0], label=\"MLP\", histtype='step')\n",
    "axs[0,2].set_xlabel(\"MLP response\")\n",
    "axs[0,2].legend()\n",
    "\n",
    "axs[1,0].hist(data_df['XiccK_PIDK'] , bins=100, density = True, range=[0, 120], label=\"log_Xicc_IPCHI2_OWNPV\", histtype='step')\n",
    "axs[1,0].set_xlabel(\"BDT response\")\n",
    "axs[1,0].legend()\n",
    "\n",
    "axs[1,1].hist(data_df['XiccPi1_PIDK'] , bins=100, density = True, range=[-120, 20], label=\"BDTG\", histtype='step')\n",
    "axs[1,1].set_xlabel(\"BDTG response\")\n",
    "axs[1,1].legend()\n",
    "\n",
    "axs[1,2].hist(data_df['XiccPi2_PIDK'] , bins=100, density = True, range=[-120, 20], label=\"MLP\", histtype='step')\n",
    "axs[1,2].set_xlabel(\"MLP response\")\n",
    "axs[1,2].legend()"
   ]
  },
  {
   "cell_type": "code",
   "execution_count": null,
   "id": "468a2f6c",
   "metadata": {},
   "outputs": [],
   "source": [
    "fig, axs = plt.subplots(2, 3)\n",
    "\n",
    "axs[0,0].hist(data_df['min_Xicc_Daughters_PT'] , bins=100, density = True, range=[0, 3500], label=\"log_Xicc_IPCHI2_OWNPV\", histtype='step')\n",
    "axs[0,0].set_xlabel(\"BDT response\")\n",
    "axs[0,0].legend()\n",
    "\n",
    "axs[0,1].hist(data_df['Lc_PT'] , bins=100, density = True, range=[0, 25000], label=\"BDTG\", histtype='step')\n",
    "axs[0,1].set_xlabel(\"BDTG response\")\n",
    "axs[0,1].legend()\n",
    "\n",
    "axs[0,2].hist(data_df['XiccPi1_PT'] , bins=100, density = True, range=[0, 7000], label=\"MLP\", histtype='step')\n",
    "axs[0,2].set_xlabel(\"MLP response\")\n",
    "axs[0,2].legend()\n",
    "\n",
    "axs[0].hist(data_df['XiccPi2_PT'] , bins=100, density = True, range=[0, 7000], label=\"log_Xicc_IPCHI2_OWNPV\", histtype='step')\n",
    "axs[0].set_xlabel(\"BDT response\")\n",
    "axs[0].legend()\n",
    "\n",
    "axs[1,1].hist(data_df['XiccK_PT'] , bins=100, density = True, range=[0, 10000], label=\"BDTG\", histtype='step')\n",
    "axs[1,1].set_xlabel(\"BDTG response\")\n",
    "axs[1,1].legend()\n",
    "\n",
    "axs[1,2].hist(data_df['log_Lc_IPCHI2_OWNPV'] , bins=100, density = True, range=[-8, 8], label=\"MLP\", histtype='step')\n",
    "axs[1,2].set_xlabel(\"MLP response\")\n",
    "axs[1,2].legend()"
   ]
  },
  {
   "cell_type": "code",
   "execution_count": null,
   "id": "565fa9ee",
   "metadata": {},
   "outputs": [],
   "source": [
    "fig, axs = plt.subplots(2, 3)\n",
    "\n",
    "axs[0,0].hist(data_df['log_XiccK_IPCHI2_OWNPV'] , bins=100, density = True, range=[0, 10], label=\"log_Xicc_IPCHI2_OWNPV\", histtype='step')\n",
    "axs[0,0].set_xlabel(\"BDT response\")\n",
    "axs[0,0].legend()\n",
    "\n",
    "axs[0,1].hist(data_df['log_XiccPi1_IPCHI2_OWNPV'] , bins=100, density = True, range=[0, 10], label=\"BDTG\", histtype='step')\n",
    "axs[0,1].set_xlabel(\"BDTG response\")\n",
    "axs[0,1].legend()\n",
    "\n",
    "axs[0,2].hist(data_df['log_XiccPi2_IPCHI2_OWNPV'] , bins=100, density = True, range=[0, 10], label=\"MLP\", histtype='step')\n",
    "axs[0,2].set_xlabel(\"MLP response\")\n",
    "axs[0,2].legend()\n",
    "\n"
   ]
  },
  {
   "cell_type": "code",
   "execution_count": null,
   "id": "63848401",
   "metadata": {},
   "outputs": [],
   "source": []
  }
 ],
 "metadata": {
  "kernelspec": {
   "display_name": "startkitEnv",
   "language": "python",
   "name": "startkitenv"
  },
  "language_info": {
   "codemirror_mode": {
    "name": "ipython",
    "version": 3
   },
   "file_extension": ".py",
   "mimetype": "text/x-python",
   "name": "python",
   "nbconvert_exporter": "python",
   "pygments_lexer": "ipython3",
   "version": "3.9.13"
  }
 },
 "nbformat": 4,
 "nbformat_minor": 5
}
