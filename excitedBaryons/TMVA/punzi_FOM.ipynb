{
 "cells": [
  {
   "cell_type": "code",
   "execution_count": 1,
   "id": "5683b9f0",
   "metadata": {},
   "outputs": [
    {
     "name": "stdout",
     "output_type": "stream",
     "text": [
      "Welcome to JupyROOT 6.26/08\n"
     ]
    }
   ],
   "source": [
    "import os\n",
    "os.environ['ZFIT_DISABLE_TF_WARNINGS'] = '1'\n",
    "# numpy is used for generating, storing, and plotting data\n",
    "import numpy as np\n",
    "import pandas\n",
    "import uproot\n",
    "\n",
    "# in order to visualise the results of the computation, we use matplotlib\n",
    "import matplotlib as mpl\n",
    "\n",
    "import matplotlib.pyplot as plt\n",
    "import mplhep\n",
    "plt.style.use(mplhep.style.LHCb2)\n",
    "plt.rcParams['text.usetex'] = True\n",
    "#plt.rcParams['figure.dpi'] = 50\n",
    "# for histograms boost has an easy api and is very fast\n",
    "import hist\n",
    "# for statistical distributions we can use a lot from scipy\n",
    "from scipy import stats\n",
    "\n",
    "import ROOT\n",
    "import numpy as np\n",
    "import matplotlib.pyplot as plt\n",
    "import matplotlib.cm as cm\n",
    "import mplhep as hep\n",
    "plt.style.use(hep.style.LHCb2)\n",
    "\n",
    "ROOT.gROOT.SetBatch(True)"
   ]
  },
  {
   "cell_type": "markdown",
   "id": "3614d4fc",
   "metadata": {},
   "source": [
    "## File import, data processing\n",
    " "
   ]
  },
  {
   "cell_type": "code",
   "execution_count": 2,
   "id": "bee2feb2",
   "metadata": {},
   "outputs": [],
   "source": [
    "#Data used for training\n",
    "path = \"/eos/lhcb/user/p/pgaigne/STEP3/Run2/Xiccpst-WS-Run2-Lc-Loose-clone-duplicate.root\"\n",
    "with uproot.open(path) as file:\n",
    "    Xiccp_WS = file['DecayTree']\n",
    "    branches_we_want = [\"C_M\",\"Xicc_M_DTF_Lc_PV\",\"Pi_M\",\"C_M_DTF_Xicc_PV\",\"Xicc_TMVA_BDTXicc\"] \n",
    "    Xiccp_WS_data = Xiccp_WS.arrays(expressions = branches_we_want, library='pd')\n",
    "    \n",
    "\n",
    "    \n",
    "#Data used for training\n",
    "path = \"/eos/lhcb/user/p/pgaigne/STEP3/Run2/Omegaccpst-WS-Run2-Lc-Loose-clone-duplicate.root\"\n",
    "with uproot.open(path) as file:\n",
    "    Omegaccp_WS = file['DecayTree']\n",
    "    branches_we_want = [\"C_M\",\"Xicc_M_DTF_Lc_PV\",\"C_KaonDTF_C_M\",\"C_M_DTF_Xicc_PV\",\"Xicc_TMVA_BDTXicc\"] \n",
    "    Omegaccp_WS_data = Omegaccp_WS.arrays(expressions = branches_we_want, library='pd')  \n",
    "    \n",
    "\n",
    "\n",
    "    \n",
    "# xicc_bkg_data = pandas.concat([xicc_bkg_data1, xicc_bkg_data2])"
   ]
  },
  {
   "cell_type": "markdown",
   "id": "be874097",
   "metadata": {},
   "source": [
    "## Cut selection"
   ]
  },
  {
   "cell_type": "code",
   "execution_count": 3,
   "id": "b4c4f830",
   "metadata": {},
   "outputs": [
    {
     "name": "stdout",
     "output_type": "stream",
     "text": [
      "84 124 10 22\n"
     ]
    }
   ],
   "source": [
    "Omegaccp_WS_data_cut_10 = Omegaccp_WS_data.query(\"abs(Xicc_M_DTF_Lc_PV-3621)<15 & C_KaonDTF_C_M-4115.1<12 & C_KaonDTF_C_M-4115.1>8\")\n",
    "Omegaccp_WS_data_cut_50 = Omegaccp_WS_data.query(\"abs(Xicc_M_DTF_Lc_PV-3621)<15 & C_KaonDTF_C_M-4115.1<52 & C_KaonDTF_C_M-4115.1>48\")\n",
    "Xiccp_WS_data_cut_10 = Xiccp_WS_data.query(\"abs(Xicc_M_DTF_Lc_PV-3621)<15 & C_M_DTF_Xicc_PV-3761<12 & C_M_DTF_Xicc_PV-3761>8\")\n",
    "Xiccp_WS_data_cut_50 = Xiccp_WS_data.query(\"abs(Xicc_M_DTF_Lc_PV-3621)<15 & C_M_DTF_Xicc_PV-3761<52 & C_M_DTF_Xicc_PV-3761>48\")\n",
    "\n",
    "\n",
    "print(len(Xiccp_WS_data_cut_10),len(Xiccp_WS_data_cut_50),len(Omegaccp_WS_data_cut_10),len(Omegaccp_WS_data_cut_50))"
   ]
  },
  {
   "cell_type": "code",
   "execution_count": 5,
   "id": "3ea56f5b",
   "metadata": {},
   "outputs": [
    {
     "name": "stdout",
     "output_type": "stream",
     "text": [
      "Xiccpst-Loose\n",
      "Backround at 50MeV : 124\n",
      "BDT : Maximimum signal significance of 8.8732E-02 for a cut of -0.051 with a 0.79 signal efficiency\n",
      "BDTG : Maximimum signal significance of 8.9443E-02 for a cut of -0.071 with a 0.73 signal efficiency\n",
      "MLP : Maximimum signal significance of 8.9439E-02 for a cut of 0.192 with a 0.67 signal efficiency\n",
      "Xiccpst-Tight\n",
      "Backround at 50MeV : 42\n",
      "BDT : Maximimum signal significance of 1.3440E-01 for a cut of -0.051 with a 0.82 signal efficiency\n",
      "BDTG : Maximimum signal significance of 1.3500E-01 for a cut of -0.394 with a 0.89 signal efficiency\n",
      "MLP : Maximimum signal significance of 1.3597E-01 for a cut of 0.232 with a 0.87 signal efficiency\n",
      "Omegaccpst-Loose\n",
      "Backround at 50MeV : 22\n",
      "BDT : Maximimum signal significance of 2.2274E-01 for a cut of -0.030 with a 0.82 signal efficiency\n",
      "BDTG : Maximimum signal significance of 2.2274E-01 for a cut of -0.030 with a 0.85 signal efficiency\n",
      "MLP : Maximimum signal significance of 2.2450E-01 for a cut of 0.232 with a 0.85 signal efficiency\n",
      "Omegaccpst-Tight\n",
      "Backround at 50MeV : 2\n",
      "BDT : Maximimum signal significance of 3.9124E-01 for a cut of -0.071 with a 0.94 signal efficiency\n",
      "BDTG : Maximimum signal significance of 3.9120E-01 for a cut of -0.475 with a 0.93 signal efficiency\n",
      "MLP : Maximimum signal significance of 3.9218E-01 for a cut of 0.313 with a 0.92 signal efficiency\n"
     ]
    }
   ],
   "source": [
    "bkg = 50\n",
    "\n",
    "for tree in ['Xiccpst-Loose','Xiccpst-Tight','Omegaccpst-Loose','Omegaccpst-Tight'] :\n",
    "    \n",
    "    if 'Xicc' in tree :\n",
    "        WS = Xiccp_WS_data.query(f\"abs(Xicc_M_DTF_Lc_PV-3621)<15 & C_M_DTF_Xicc_PV-3761<{bkg+2} & C_M_DTF_Xicc_PV-3761>{bkg-2}\")\n",
    "    elif 'Omega' in tree :\n",
    "        WS = Omegaccp_WS_data.query(f\"abs(Xicc_M_DTF_Lc_PV-3621)<15 & C_KaonDTF_C_M-4115.1<{bkg+2} & C_KaonDTF_C_M-4115.1>{bkg-2}\")\n",
    "    \n",
    "    if 'Loose' in tree :\n",
    "        B0 = len(WS) \n",
    "    elif 'Tight' in tree :\n",
    "        B0 = len(WS.query(\"Xicc_TMVA_BDTXicc>0.17\"))\n",
    "\n",
    "    \n",
    "    f1 = ROOT.TFile(f\"/afs/cern.ch/work/p/pgaigne/MVA/TMVAout-{tree}.root\")\n",
    "\n",
    "    mva_names = ['BDT', 'BDTG', 'MLP']\n",
    "\n",
    "    histS = []\n",
    "    histB = []\n",
    "    minX = []\n",
    "    maxX = []\n",
    "\n",
    "    for mva in mva_names :\n",
    "        histS.append(f1.Get(f\"dataset-{tree}/Method_{mva[:3]}/{mva}/MVA_{mva}_effS\"))\n",
    "        histB.append(f1.Get(f\"dataset-{tree}/Method_{mva[:3]}/{mva}/MVA_{mva}_effB\"))\n",
    "\n",
    "        minX.append(histS[-1].GetXaxis().GetXmin())\n",
    "        maxX.append(histS[-1].GetXaxis().GetXmax())\n",
    "\n",
    "    minCut = -1\n",
    "    maxCut = 1\n",
    "    nbBinPlot = 10000\n",
    "    nbBin = 100\n",
    "    stepBin = int(nbBinPlot/nbBin)\n",
    "\n",
    "\n",
    "    maxSignificances = np.zeros(len(mva_names))\n",
    "    optCuts = np.zeros(len(mva_names))\n",
    "    optCutEffs = np.zeros(len(mva_names))\n",
    "\n",
    "    cuts = np.linspace(minCut,maxCut,nbBin)\n",
    "\n",
    "    significances = np.zeros((len(mva_names),nbBin))\n",
    "\n",
    "    for i,cut in enumerate(cuts):\n",
    "        for k in range(len(mva_names)):\n",
    "            j = int((cut-minX[k])*nbBinPlot/(maxX[k]-minX[k]))\n",
    "\n",
    "            if j<0 :\n",
    "                effB, effS = 1,1\n",
    "                binCenter = 0\n",
    "\n",
    "            elif j<nbBinPlot:\n",
    "                binCenter = histS[k].GetBinCenter(j)\n",
    "                effS = histS[k].GetBinContent(j)\n",
    "                effB = histB[k].GetBinContent(j)\n",
    "\n",
    "            else :\n",
    "                effB, effS = 1,0\n",
    "\n",
    "\n",
    "            B = effB * B0\n",
    "\n",
    "            punzi = effS/(3/2+np.sqrt(B))\n",
    "            significances[k,i] = punzi\n",
    "\n",
    "            if punzi > maxSignificances[k] :\n",
    "                maxSignificances[k] = punzi\n",
    "                optCuts[k] = binCenter\n",
    "                optCutEffs[k] = effS\n",
    "        #fomcurve.SetBinContent(i*stepBin, significance)\n",
    "\n",
    "    print(tree)\n",
    "    print(f\"Backround at {bkg}MeV :\", B0)\n",
    "    for i,mva in enumerate(mva_names):\n",
    "        print(f'{mva} : Maximimum signal significance of {maxSignificances[i]:.4E} for a cut of {optCuts[i]:.3f} with a {optCutEffs[i]:.2f} signal efficiency')\n",
    "\n",
    "\n",
    "\n",
    "\n",
    "\n",
    "\n",
    "\n",
    "    color=iter(cm.rainbow(np.linspace(0,1,len(mva_names))))\n",
    "    for i,mva in enumerate(mva_names):\n",
    "      c=next(color)\n",
    "      #plt.errorbar(MVAcuts,fom[i],fom_err[i],[1/400.]*201,\"o\",c=c,label=mva_var[i][4:]+' (max {:0.2e})'.format(max(fom[i])))\n",
    "      plt.errorbar(cuts,significances[i],np.zeros(nbBin),[1/(2*nbBin)]*nbBin,\"o\",c=c,label=mva,markersize=5.)\n",
    "\n",
    "    bestCut = optCuts[np.argmax(maxSignificances)]\n",
    "    plt.axvline(x=bestCut)\n",
    "    plt.text(bestCut, -maxSignificances[0]/5, f\"{bestCut:.3f}\")\n",
    "    plt.legend(loc='best')\n",
    "    plt.title(f'FoM ({tree})')\n",
    "    plt.xlabel('MVA cut')\n",
    "    plt.ylabel('F(t)')\n",
    "    axes = plt.gca()\n",
    "    axes.set_xlim([minCut,maxCut])\n",
    "\n",
    "    plt.savefig(f\"fom-punzi-{tree}-{bkg}.png\",bbox_inches=\"tight\")\n",
    "    plt.close()\n",
    "    \n",
    "\n",
    "\n",
    "\n",
    "\n",
    "\n",
    "\n"
   ]
  },
  {
   "cell_type": "code",
   "execution_count": null,
   "id": "32138906",
   "metadata": {},
   "outputs": [],
   "source": []
  }
 ],
 "metadata": {
  "kernelspec": {
   "display_name": "startkitEnv",
   "language": "python",
   "name": "startkitenv"
  },
  "language_info": {
   "codemirror_mode": {
    "name": "ipython",
    "version": 3
   },
   "file_extension": ".py",
   "mimetype": "text/x-python",
   "name": "python",
   "nbconvert_exporter": "python",
   "pygments_lexer": "ipython3",
   "version": "3.9.13"
  },
  "vscode": {
   "interpreter": {
    "hash": "887f33e596282997c2202cd692b2605047ec947ac54ad96b34b4a02b1c19c8a9"
   }
  }
 },
 "nbformat": 4,
 "nbformat_minor": 5
}
