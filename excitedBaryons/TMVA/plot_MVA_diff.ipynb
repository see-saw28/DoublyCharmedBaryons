{
 "cells": [
  {
   "cell_type": "code",
   "execution_count": 2,
   "id": "5683b9f0",
   "metadata": {},
   "outputs": [],
   "source": [
    "import os\n",
    "os.environ['ZFIT_DISABLE_TF_WARNINGS'] = '1'\n",
    "# numpy is used for generating, storing, and plotting data\n",
    "import numpy as np\n",
    "# zfit will be used for the parameter estimation in the following\n",
    "import zfit\n",
    "import uproot\n",
    "import pandas\n",
    "\n",
    "# in order to visualise the results of the computation, we use matplotlib\n",
    "import matplotlib as mpl\n",
    "if os.path.exists('lhcbStylerc'):\n",
    "    mpl.rc_file('lhcbStylerc') # some plotting presets i usually use, you can find them in the git-repo\n",
    "import socket\n",
    "#if 'jupyter-schmitse-' in socket.gethostname():\n",
    "#    mpl.rcParams['text.usetex'] = False # no latex on binder\n",
    "    \n",
    "import matplotlib.pyplot as plt\n",
    "import mplhep\n",
    "plt.style.use(mplhep.style.LHCb2)\n",
    "#plt.rcParams['text.usetex'] = True\n",
    "# for histograms boost has an easy api and is very fast\n",
    "import hist\n",
    "# for statistical distributions we can use a lot from scipy\n",
    "from scipy import stats"
   ]
  },
  {
   "cell_type": "markdown",
   "id": "3614d4fc",
   "metadata": {},
   "source": [
    "## File import, data processing\n",
    " "
   ]
  },
  {
   "cell_type": "code",
   "execution_count": null,
   "id": "bee2feb2",
   "metadata": {},
   "outputs": [],
   "source": [
    "diff = True\n",
    "\n",
    "if diff :\n",
    "    path16=\"/eos/lhcb/user/p/pgaigne/job138-Xiccpst-2016-MD-0-XiccMVA-cut.root\"\n",
    "    \n",
    "else :\n",
    "    path16=\"/eos/lhcb/user/p/pgaigne/DV_Xiccpst_Collision_2016_MD-XiccMVA-cut1.root\"\n",
    "    \n",
    "\n",
    "\n",
    "\n",
    "    \n",
    "file =  uproot.open(path16)\n",
    "tree = file['DecayTree']\n",
    "data_df16 = tree.arrays( library='pd')\n",
    "file.close()   \n"
   ]
  },
  {
   "cell_type": "code",
   "execution_count": null,
   "id": "adb3adfc",
   "metadata": {},
   "outputs": [],
   "source": [
    "fig, ax = plt.subplots()\n",
    "ax.hist(data_df16.BDT_Xicc-data_df16.Xicc_TMVA_BDTXicc, bins=100, histtype ='step', label=r'$\\Delta BDT$')\n",
    "# ax.set_xlabel(r'$\\Delta BDT$')\n",
    "ax.legend()"
   ]
  },
  {
   "cell_type": "code",
   "execution_count": null,
   "id": "0d9d492c",
   "metadata": {},
   "outputs": [],
   "source": [
    "if diff :\n",
    "    var_list = [\"Xicc_TMVA_LcK_PIDK\", \n",
    "            \"Xicc_TMVA_LcP_PIDp\" , \n",
    "            \"Xicc_TMVA_LcPi_PIDK\" , \n",
    "            \"Xicc_TMVA_Lc_ENDVERTEX_CHI2_NDOF\" , \n",
    "            \"Xicc_TMVA_Lc_PT\" , \n",
    "            \"Xicc_TMVA_XiccK_PIDK\" , \n",
    "            \"Xicc_TMVA_XiccK_PT\" , \n",
    "            \"Xicc_TMVA_XiccPi_PIDK_sum\" , \n",
    "            \"Xicc_TMVA_XiccPi_PT_sum\" , \n",
    "            \"Xicc_TMVA_XiccPi_PIDK_diff\" , \n",
    "            \"Xicc_TMVA_XiccPi_PT_diff\" , \n",
    "            \"Xicc_TMVA_acos_Xicc_DIRA_OWNPV\" , \n",
    "            \"Xicc_TMVA_log_Lc_IPCHI2_OWNPV\" , \n",
    "            \"Xicc_TMVA_log_XiccK_IPCHI2_OWNPV\" , \n",
    "            \"Xicc_TMVA_log_XiccPi_IPCHI2_OWNPV_sum\" , \n",
    "            \"Xicc_TMVA_log_XiccPi_IPCHI2_OWNPV_diff\" , \n",
    "            \"Xicc_TMVA_log_Xicc_CHI2NDOF_DTF_PV\" , \n",
    "            \"Xicc_TMVA_log_Xicc_ENDVERTEX_CHI2_NDOF\" , \n",
    "            \"Xicc_TMVA_log_Xicc_FDCHI2_OWNPV\" ,   \n",
    "            \"Xicc_TMVA_log_Xicc_IPCHI2_OWNPV\" , \n",
    "            \"Xicc_TMVA_min_Xicc_Daughters_PT\"    \n",
    "           ]\n",
    "else :    \n",
    "    var_list = [\"Xicc_TMVA_LcK_PIDK\", \n",
    "            \"Xicc_TMVA_LcP_PIDp\" , \n",
    "            \"Xicc_TMVA_LcPi_PIDK\" , \n",
    "            \"Xicc_TMVA_Lc_ENDVERTEX_CHI2_NDOF\" , \n",
    "            \"Xicc_TMVA_Lc_PT\" , \n",
    "            \"Xicc_TMVA_XiccK_PIDK\" , \n",
    "            \"Xicc_TMVA_XiccK_PT\" , \n",
    "            \"Xicc_TMVA_XiccPi1_PIDK\" , \n",
    "            \"Xicc_TMVA_XiccPi1_PT\" , \n",
    "            \"Xicc_TMVA_XiccPi2_PIDK\" , \n",
    "            \"Xicc_TMVA_XiccPi2_PT\" , \n",
    "            \"Xicc_TMVA_acos_Xicc_DIRA_OWNPV\" , \n",
    "            \"Xicc_TMVA_log_Lc_IPCHI2_OWNPV\" , \n",
    "            \"Xicc_TMVA_log_XiccK_IPCHI2_OWNPV\" , \n",
    "            \"Xicc_TMVA_log_XiccPi1_IPCHI2_OWNPV\" , \n",
    "            \"Xicc_TMVA_log_XiccPi2_IPCHI2_OWNPV\" , \n",
    "            \"Xicc_TMVA_log_Xicc_CHI2NDOF_DTF_PV\" , \n",
    "            \"Xicc_TMVA_log_Xicc_ENDVERTEX_CHI2_NDOF\" , \n",
    "            \"Xicc_TMVA_log_Xicc_FDCHI2_OWNPV\" ,   \n",
    "            \"Xicc_TMVA_log_Xicc_IPCHI2_OWNPV\" , \n",
    "            \"Xicc_TMVA_min_Xicc_Daughters_PT\"    \n",
    "           ]\n",
    "\n"
   ]
  },
  {
   "cell_type": "code",
   "execution_count": null,
   "id": "343a3aae",
   "metadata": {
    "scrolled": false
   },
   "outputs": [],
   "source": [
    "fig, axs = plt.subplots(7, 3, figsize=(40, 60))\n",
    "\n",
    "for j in range(0,7):\n",
    "    for i in range(0,3):\n",
    "        var = var_list[3*j+i]\n",
    "        diff = getattr(data_df16,var)-getattr(data_df16,var[10:])\n",
    "        axs[j,i].hist(diff, bins=100, histtype ='step', label=var[10:])\n",
    "        axs[j,i].legend()\n",
    "        \n",
    "        "
   ]
  },
  {
   "cell_type": "code",
   "execution_count": null,
   "id": "a4c6eba8",
   "metadata": {},
   "outputs": [],
   "source": []
  },
  {
   "cell_type": "code",
   "execution_count": null,
   "id": "bf57ede2",
   "metadata": {},
   "outputs": [],
   "source": []
  }
 ],
 "metadata": {
  "kernelspec": {
   "display_name": "startkitEnv",
   "language": "python",
   "name": "startkitenv"
  },
  "language_info": {
   "codemirror_mode": {
    "name": "ipython",
    "version": 3
   },
   "file_extension": ".py",
   "mimetype": "text/x-python",
   "name": "python",
   "nbconvert_exporter": "python",
   "pygments_lexer": "ipython3",
   "version": "3.9.13"
  }
 },
 "nbformat": 4,
 "nbformat_minor": 5
}
