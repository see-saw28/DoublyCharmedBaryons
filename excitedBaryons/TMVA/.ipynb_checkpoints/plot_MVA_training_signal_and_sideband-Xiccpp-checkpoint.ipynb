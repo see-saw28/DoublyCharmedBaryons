{
 "cells": [
  {
   "cell_type": "code",
   "execution_count": 1,
   "id": "5683b9f0",
   "metadata": {},
   "outputs": [],
   "source": [
    "import os\n",
    "os.environ['ZFIT_DISABLE_TF_WARNINGS'] = '1'\n",
    "# numpy is used for generating, storing, and plotting data\n",
    "import numpy as np\n",
    "import pandas\n",
    "import uproot\n",
    "\n",
    "# in order to visualise the results of the computation, we use matplotlib\n",
    "import matplotlib as mpl\n",
    "\n",
    "import matplotlib.pyplot as plt\n",
    "import mplhep\n",
    "plt.style.use(mplhep.style.LHCb2)\n",
    "plt.rcParams['text.usetex'] = True\n",
    "#plt.rcParams['figure.dpi'] = 50\n",
    "# for histograms boost has an easy api and is very fast\n",
    "import hist\n",
    "# for statistical distributions we can use a lot from scipy\n",
    "from scipy import stats"
   ]
  },
  {
   "cell_type": "markdown",
   "id": "3614d4fc",
   "metadata": {},
   "source": [
    "## File import, data processing\n",
    " "
   ]
  },
  {
   "cell_type": "code",
   "execution_count": 3,
   "id": "bee2feb2",
   "metadata": {},
   "outputs": [
    {
     "ename": "OSError",
     "evalue": "memmap is closed for file /eos/lhcb/user/p/pgaigne/STEP2/2016/job74-CombDVntuple-Lc_Cuts-SB-3800-3900-Lc-clone.root",
     "output_type": "error",
     "traceback": [
      "\u001b[0;31m---------------------------------------------------------------------------\u001b[0m",
      "\u001b[0;31mOSError\u001b[0m                                   Traceback (most recent call last)",
      "Cell \u001b[0;32mIn [3], line 26\u001b[0m\n\u001b[1;32m     24\u001b[0m xicc_bkg_rec_full \u001b[38;5;241m=\u001b[39m file[\u001b[38;5;124m'\u001b[39m\u001b[38;5;124mtuple_sel_rec/DecayTree\u001b[39m\u001b[38;5;124m'\u001b[39m]\n\u001b[1;32m     25\u001b[0m branches_we_want \u001b[38;5;241m=\u001b[39m [\u001b[38;5;124m\"\u001b[39m\u001b[38;5;124mXicc_M\u001b[39m\u001b[38;5;124m\"\u001b[39m,\u001b[38;5;124m\"\u001b[39m\u001b[38;5;124mXicc_M_DTF_Lc_PV\u001b[39m\u001b[38;5;124m\"\u001b[39m,\u001b[38;5;124m\"\u001b[39m\u001b[38;5;124mLc_M\u001b[39m\u001b[38;5;124m\"\u001b[39m] \n\u001b[0;32m---> 26\u001b[0m xicc_bkg_rec_data_full \u001b[38;5;241m=\u001b[39m \u001b[43mxicc_bkg_rec\u001b[49m\u001b[38;5;241;43m.\u001b[39;49m\u001b[43marrays\u001b[49m\u001b[43m(\u001b[49m\u001b[43mexpressions\u001b[49m\u001b[43m \u001b[49m\u001b[38;5;241;43m=\u001b[39;49m\u001b[43m \u001b[49m\u001b[43mbranches_we_want\u001b[49m\u001b[43m,\u001b[49m\u001b[43m \u001b[49m\u001b[43mlibrary\u001b[49m\u001b[38;5;241;43m=\u001b[39;49m\u001b[38;5;124;43m'\u001b[39;49m\u001b[38;5;124;43mpd\u001b[39;49m\u001b[38;5;124;43m'\u001b[39;49m\u001b[43m)\u001b[49m\n\u001b[1;32m     27\u001b[0m \u001b[38;5;66;03m#data_sideband = xicc_rec['Xicc_M'].arrays(library='pd')\u001b[39;00m\n",
      "File \u001b[0;32m/cvmfs/lhcbdev.cern.ch/conda/envs/default/2022-11-21_11-58/linux-64/lib/python3.9/site-packages/uproot/behaviors/TBranch.py:1257\u001b[0m, in \u001b[0;36mHasBranches.arrays\u001b[0;34m(self, expressions, cut, filter_name, filter_typename, filter_branch, aliases, language, entry_start, entry_stop, decompression_executor, interpretation_executor, array_cache, library, how)\u001b[0m\n\u001b[1;32m   1251\u001b[0m             \u001b[38;5;28;01mfor\u001b[39;00m (\n\u001b[1;32m   1252\u001b[0m                 basket_num,\n\u001b[1;32m   1253\u001b[0m                 range_or_basket,\n\u001b[1;32m   1254\u001b[0m             ) \u001b[38;5;129;01min\u001b[39;00m branch\u001b[38;5;241m.\u001b[39mentries_to_ranges_or_baskets(entry_start, entry_stop):\n\u001b[1;32m   1255\u001b[0m                 ranges_or_baskets\u001b[38;5;241m.\u001b[39mappend((branch, basket_num, range_or_basket))\n\u001b[0;32m-> 1257\u001b[0m \u001b[43m_ranges_or_baskets_to_arrays\u001b[49m\u001b[43m(\u001b[49m\n\u001b[1;32m   1258\u001b[0m \u001b[43m    \u001b[49m\u001b[38;5;28;43mself\u001b[39;49m\u001b[43m,\u001b[49m\n\u001b[1;32m   1259\u001b[0m \u001b[43m    \u001b[49m\u001b[43mranges_or_baskets\u001b[49m\u001b[43m,\u001b[49m\n\u001b[1;32m   1260\u001b[0m \u001b[43m    \u001b[49m\u001b[43mbranchid_interpretation\u001b[49m\u001b[43m,\u001b[49m\n\u001b[1;32m   1261\u001b[0m \u001b[43m    \u001b[49m\u001b[43mentry_start\u001b[49m\u001b[43m,\u001b[49m\n\u001b[1;32m   1262\u001b[0m \u001b[43m    \u001b[49m\u001b[43mentry_stop\u001b[49m\u001b[43m,\u001b[49m\n\u001b[1;32m   1263\u001b[0m \u001b[43m    \u001b[49m\u001b[43mdecompression_executor\u001b[49m\u001b[43m,\u001b[49m\n\u001b[1;32m   1264\u001b[0m \u001b[43m    \u001b[49m\u001b[43minterpretation_executor\u001b[49m\u001b[43m,\u001b[49m\n\u001b[1;32m   1265\u001b[0m \u001b[43m    \u001b[49m\u001b[43mlibrary\u001b[49m\u001b[43m,\u001b[49m\n\u001b[1;32m   1266\u001b[0m \u001b[43m    \u001b[49m\u001b[43marrays\u001b[49m\u001b[43m,\u001b[49m\n\u001b[1;32m   1267\u001b[0m \u001b[43m    \u001b[49m\u001b[38;5;28;43;01mFalse\u001b[39;49;00m\u001b[43m,\u001b[49m\n\u001b[1;32m   1268\u001b[0m \u001b[43m\u001b[49m\u001b[43m)\u001b[49m\n\u001b[1;32m   1270\u001b[0m \u001b[38;5;66;03m# no longer needed; save memory\u001b[39;00m\n\u001b[1;32m   1271\u001b[0m \u001b[38;5;28;01mdel\u001b[39;00m ranges_or_baskets\n",
      "File \u001b[0;32m/cvmfs/lhcbdev.cern.ch/conda/envs/default/2022-11-21_11-58/linux-64/lib/python3.9/site-packages/uproot/behaviors/TBranch.py:3405\u001b[0m, in \u001b[0;36m_ranges_or_baskets_to_arrays\u001b[0;34m(hasbranches, ranges_or_baskets, branchid_interpretation, entry_start, entry_stop, decompression_executor, interpretation_executor, library, arrays, update_ranges_or_baskets)\u001b[0m\n\u001b[1;32m   3400\u001b[0m         \u001b[38;5;28;01mif\u001b[39;00m cache_key \u001b[38;5;129;01mnot\u001b[39;00m \u001b[38;5;129;01min\u001b[39;00m arrays:\n\u001b[1;32m   3401\u001b[0m             arrays[cache_key] \u001b[38;5;241m=\u001b[39m interpretation\u001b[38;5;241m.\u001b[39mfinal_array(\n\u001b[1;32m   3402\u001b[0m                 {}, \u001b[38;5;241m0\u001b[39m, \u001b[38;5;241m0\u001b[39m, [\u001b[38;5;241m0\u001b[39m], library, \u001b[38;5;28;01mNone\u001b[39;00m\n\u001b[1;32m   3403\u001b[0m             )\n\u001b[0;32m-> 3405\u001b[0m \u001b[43mhasbranches\u001b[49m\u001b[38;5;241;43m.\u001b[39;49m\u001b[43m_file\u001b[49m\u001b[38;5;241;43m.\u001b[39;49m\u001b[43msource\u001b[49m\u001b[38;5;241;43m.\u001b[39;49m\u001b[43mchunks\u001b[49m\u001b[43m(\u001b[49m\u001b[43mranges\u001b[49m\u001b[43m,\u001b[49m\u001b[43m \u001b[49m\u001b[43mnotifications\u001b[49m\u001b[38;5;241;43m=\u001b[39;49m\u001b[43mnotifications\u001b[49m\u001b[43m)\u001b[49m\n\u001b[1;32m   3407\u001b[0m \u001b[38;5;28;01mdef\u001b[39;00m \u001b[38;5;21mreplace\u001b[39m(ranges_or_baskets, original_index, basket):\n\u001b[1;32m   3408\u001b[0m     branch, basket_num, range_or_basket \u001b[38;5;241m=\u001b[39m ranges_or_baskets[original_index]\n",
      "File \u001b[0;32m/cvmfs/lhcbdev.cern.ch/conda/envs/default/2022-11-21_11-58/linux-64/lib/python3.9/site-packages/uproot/source/file.py:161\u001b[0m, in \u001b[0;36mMemmapSource.chunks\u001b[0;34m(self, ranges, notifications)\u001b[0m\n\u001b[1;32m    159\u001b[0m \u001b[38;5;28;01mif\u001b[39;00m \u001b[38;5;28mself\u001b[39m\u001b[38;5;241m.\u001b[39m_fallback \u001b[38;5;129;01mis\u001b[39;00m \u001b[38;5;28;01mNone\u001b[39;00m:\n\u001b[1;32m    160\u001b[0m     \u001b[38;5;28;01mif\u001b[39;00m \u001b[38;5;28mself\u001b[39m\u001b[38;5;241m.\u001b[39mclosed:\n\u001b[0;32m--> 161\u001b[0m         \u001b[38;5;28;01mraise\u001b[39;00m \u001b[38;5;167;01mOSError\u001b[39;00m(\u001b[38;5;124mf\u001b[39m\u001b[38;5;124m\"\u001b[39m\u001b[38;5;124mmemmap is closed for file \u001b[39m\u001b[38;5;132;01m{\u001b[39;00m\u001b[38;5;28mself\u001b[39m\u001b[38;5;241m.\u001b[39m_file_path\u001b[38;5;132;01m}\u001b[39;00m\u001b[38;5;124m\"\u001b[39m)\n\u001b[1;32m    163\u001b[0m     \u001b[38;5;28mself\u001b[39m\u001b[38;5;241m.\u001b[39m_num_requests \u001b[38;5;241m+\u001b[39m\u001b[38;5;241m=\u001b[39m \u001b[38;5;241m1\u001b[39m\n\u001b[1;32m    164\u001b[0m     \u001b[38;5;28mself\u001b[39m\u001b[38;5;241m.\u001b[39m_num_requested_chunks \u001b[38;5;241m+\u001b[39m\u001b[38;5;241m=\u001b[39m \u001b[38;5;28mlen\u001b[39m(ranges)\n",
      "\u001b[0;31mOSError\u001b[0m: memmap is closed for file /eos/lhcb/user/p/pgaigne/STEP2/2016/job74-CombDVntuple-Lc_Cuts-SB-3800-3900-Lc-clone.root"
     ]
    }
   ],
   "source": [
    "\n",
    "#MC used for training\n",
    "path = \"/eos/lhcb/user/p/pgaigne/MC/26266052/MC-Run2-26266052-MCMatch-Lc-clone-duplicate.root\"\n",
    "with uproot.open(path) as file:\n",
    "    \n",
    "    \n",
    "    xicc_MC_rec = file['DecayTree']\n",
    "\n",
    "    branches_we_want = [\"Xicc_M\",\"Xicc_M_DTF_Lc_PV\",\"Lc_M\",\"Xicc_TRUEID\",\"Lc_TRUEID\",\"LcP_TRUEID\",\"LcPi_TRUEID\",\"LcK_TRUEID\",\"LcP_MC_MOTHER_ID\",\"LcP_MC_GD_MOTHER_ID\",\"LcK_MC_MOTHER_ID\",\"LcK_MC_GD_MOTHER_ID\",\"LcPi_MC_MOTHER_ID\",\"LcPi_MC_GD_MOTHER_ID\",\"XiccPi1_TRUEID\",\"XiccPi1_MC_MOTHER_ID\",\"XiccPi2_TRUEID\",\"XiccPi2_MC_MOTHER_ID\",\"XiccK_TRUEID\",\"XiccK_MC_MOTHER_ID\"]\n",
    "\n",
    "    xicc_MC_rec_data = xicc_MC_rec.arrays(expressions = branches_we_want, library='pd')\n",
    "    \n",
    "    \n",
    "#Data used for training\n",
    "path = \"/eos/lhcb/user/p/pgaigne/STEP2/2016/job74-CombDVntuple-Lc_Cuts-SB-3800-3900-Lc-clone-duplicate.root\"\n",
    "with uproot.open(path) as file:\n",
    "    xicc_bkg_rec = file['DecayTree']\n",
    "    branches_we_want = [\"Xicc_M\",\"Xicc_M_DTF_Lc_PV\",\"Lc_M\"] \n",
    "    xicc_bkg_rec_data = xicc_bkg_rec.arrays(expressions = branches_we_want, library='pd')\n",
    "    #data_sideband = xicc_rec['Xicc_M'].arrays(library='pd')\n",
    "    \n",
    "#Data used for training\n",
    "path = \"/eos/lhcb/user/p/pgaigne/STEP2/2016/job74-CombDVntuple-Lc_Cuts.root\"\n",
    "with uproot.open(path) as file:\n",
    "    xicc_bkg_rec_full = file['tuple_sel_rec/DecayTree']\n",
    "    branches_we_want = [\"Xicc_M\",\"Xicc_M_DTF_Lc_PV\",\"Lc_M\"] \n",
    "    xicc_bkg_rec_data_full = xicc_bkg_rec_full.arrays(expressions = branches_we_want, library='pd')\n",
    "    #data_sideband = xicc_rec['Xicc_M'].arrays(library='pd')\n",
    "\n"
   ]
  },
  {
   "cell_type": "markdown",
   "id": "be874097",
   "metadata": {},
   "source": [
    "## Cut selection"
   ]
  },
  {
   "cell_type": "code",
   "execution_count": null,
   "id": "b4c4f830",
   "metadata": {},
   "outputs": [],
   "source": [
    "cut = \"(abs(Xicc_TRUEID)==4422&abs(Lc_TRUEID)==4122&abs(LcP_TRUEID)==2212&abs(LcPi_TRUEID)==211&abs(LcK_TRUEID)==321&(abs(LcP_MC_MOTHER_ID)==4122|abs(LcP_MC_GD_MOTHER_ID)==4122)&(abs(LcK_MC_MOTHER_ID)==4122|abs(LcK_MC_GD_MOTHER_ID)==4122)&(abs(LcPi_MC_MOTHER_ID)==4122|abs(LcPi_MC_GD_MOTHER_ID)==4122)&abs(XiccPi1_TRUEID)==211&abs(XiccPi1_MC_MOTHER_ID)==4422&abs(XiccPi2_TRUEID)==211&abs(XiccPi2_MC_MOTHER_ID)==4422&abs(XiccK_TRUEID)==321&abs(XiccK_MC_MOTHER_ID)==4422)\"\n",
    "xicc_MC_rec_data = xicc_MC_rec_data.query(cut+\"&(Lc_M>2270)&(Lc_M<2306)\")\n",
    "xicc_bkg_rec_data = xicc_bkg_rec_data.query(\"(Lc_M>2270)&(Lc_M<2306)\")\n",
    "xicc_bkg_rec_data_full = xicc_bkg_rec_data_full.query(\"(Lc_M>2270)&(Lc_M<2306)\")\n",
    "\n",
    "\n",
    "\n",
    "data_sig_rec_M = xicc_MC_rec_data.Xicc_M_DTF_Lc_PV\n",
    "data_sideband_rec_M = xicc_bkg_rec_data.Xicc_M\n",
    "data_sideband_rec_full_M = xicc_bkg_rec_data_full.Xicc_M\n",
    "\n",
    "\n",
    "\n",
    "\n",
    "data_sig_rec_cut = xicc_MC_rec_data.query(\"abs(Xicc_M_DTF_Lc_PV-3621)<15\")\n",
    "data_sideband_rec_cut = xicc_bkg_rec_data.query(\"(Xicc_M>3800)&(Xicc_M<3900)\")\n",
    "data_sideband_rec_full_cut = xicc_bkg_rec_data_full.query(\"(Xicc_M>3800)&(Xicc_M<3900)\")\n",
    "\n",
    "\n",
    "\n",
    "data_sig_rec_cut_M = data_sig_rec_cut.Xicc_M_DTF_Lc_PV\n",
    "data_sideband_rec_cut_M = data_sideband_rec_cut.Xicc_M\n",
    "data_sideband_rec_full_cut_M = data_sideband_rec_full_cut.Xicc_M\n"
   ]
  },
  {
   "cell_type": "markdown",
   "id": "2a93e096",
   "metadata": {},
   "source": [
    "## Signal selected"
   ]
  },
  {
   "cell_type": "code",
   "execution_count": null,
   "id": "5e53804a",
   "metadata": {
    "scrolled": false
   },
   "outputs": [],
   "source": [
    "n, bins, patches = plt.hist([data_sig_rec_cut_M, data_sig_rec_M], \n",
    "                            bins=48, \n",
    "                            density = False, \n",
    "                            range=[3621-72, 3621+72],\n",
    "                            histtype='step', \n",
    "                            label=[\"Signal\", \"Xicc_M\"], \n",
    "                            color=['b','black']\n",
    "                            )\n",
    "\n",
    "hatches = ['/', '']\n",
    "for patch_set, hatch in zip(patches, hatches):\n",
    "    for patch in patch_set:\n",
    "        patch.set_hatch(hatch)\n",
    "\n",
    "        \n",
    "plt.xlabel(\"$M(\\Lambda_c^+ K^- \\pi^+ \\pi^+)[MeV/c^2]$\")\n",
    "plt.ylabel(f'Events/( 3 MeV/$c^2$ )');\n",
    "plt.legend()"
   ]
  },
  {
   "cell_type": "code",
   "execution_count": null,
   "id": "d8d0f265",
   "metadata": {},
   "outputs": [],
   "source": [
    "print(f\"Number of signal events : {len(data_sig_rec_cut_M)}\", len(xicc_MC_rec_data))"
   ]
  },
  {
   "cell_type": "markdown",
   "id": "ea60e387",
   "metadata": {},
   "source": [
    "## Sideband selected"
   ]
  },
  {
   "cell_type": "code",
   "execution_count": null,
   "id": "fd652189",
   "metadata": {
    "scrolled": false
   },
   "outputs": [],
   "source": [
    "n, bins, patches = plt.hist([data_sideband_rec_cut_M, data_sideband_rec_M], \n",
    "                            bins=80, \n",
    "                            density = False, \n",
    "                            range=[3500, 3900],\n",
    "                            histtype='step', \n",
    "                            label=[\"Sideband\", \"Xicc_M\"], \n",
    "                            color=['r','black']\n",
    "                            )\n",
    "\n",
    "hatches = ['/', '']\n",
    "for patch_set, hatch in zip(patches, hatches):\n",
    "    for patch in patch_set:\n",
    "        patch.set_hatch(hatch)\n",
    "\n",
    "        \n",
    "plt.xlabel(\"Xicc_M\")\n",
    "\n",
    "plt.legend(loc='upper left')"
   ]
  },
  {
   "cell_type": "code",
   "execution_count": null,
   "id": "9c8799d9",
   "metadata": {},
   "outputs": [],
   "source": [
    "print(f\"Number of sideband events : {len(data_sideband_rec_cut_M)}\")"
   ]
  },
  {
   "cell_type": "code",
   "execution_count": null,
   "id": "bbcb5298",
   "metadata": {},
   "outputs": [],
   "source": []
  },
  {
   "cell_type": "code",
   "execution_count": null,
   "id": "94c8d34a",
   "metadata": {
    "scrolled": false
   },
   "outputs": [],
   "source": [
    "n, bins, patches = plt.hist([data_sideband_rec_full_cut_M, data_sideband_rec_full_M], \n",
    "                            bins=80, \n",
    "                            density = False, \n",
    "                            range=[3500, 3900],\n",
    "                            histtype='step', \n",
    "                            label=[\"Sideband\", \"Xicc_M\"], \n",
    "                            color=['r','black']\n",
    "                            )\n",
    "\n",
    "hatches = ['/', '']\n",
    "for patch_set, hatch in zip(patches, hatches):\n",
    "    for patch in patch_set:\n",
    "        patch.set_hatch(hatch)\n",
    "\n",
    "        \n",
    "plt.xlabel(\"Xicc_M\")\n",
    "\n",
    "plt.legend(loc='upper left')"
   ]
  },
  {
   "cell_type": "code",
   "execution_count": null,
   "id": "c9b599fd",
   "metadata": {},
   "outputs": [],
   "source": []
  }
 ],
 "metadata": {
  "kernelspec": {
   "display_name": "startkitEnv",
   "language": "python",
   "name": "startkitenv"
  },
  "language_info": {
   "codemirror_mode": {
    "name": "ipython",
    "version": 3
   },
   "file_extension": ".py",
   "mimetype": "text/x-python",
   "name": "python",
   "nbconvert_exporter": "python",
   "pygments_lexer": "ipython3",
   "version": "3.9.13"
  },
  "vscode": {
   "interpreter": {
    "hash": "887f33e596282997c2202cd692b2605047ec947ac54ad96b34b4a02b1c19c8a9"
   }
  }
 },
 "nbformat": 4,
 "nbformat_minor": 5
}
